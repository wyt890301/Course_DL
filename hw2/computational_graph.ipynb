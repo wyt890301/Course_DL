{
 "cells": [
  {
   "cell_type": "code",
   "execution_count": 1,
   "id": "5c32c4b1-7a23-41a7-878d-c3cb13796563",
   "metadata": {},
   "outputs": [],
   "source": [
    "import numpy as np\n",
    "import math\n",
    "import seaborn as sns\n",
    "import matplotlib.pyplot as plt\n",
    "from tqdm.notebook import tqdm\n",
    "import cv2\n",
    "from sklearn.linear_model import Perceptron\n",
    "from sklearn.metrics import accuracy_score\n",
    "from sklearn.decomposition import PCA"
   ]
  },
  {
   "cell_type": "code",
   "execution_count": 15,
   "id": "6edf5649-828b-4162-a63a-c91218bb106e",
   "metadata": {},
   "outputs": [],
   "source": [
    "RANDOM_STATE = 111\n",
    "INPUT_SIZE = 768\n",
    "HIDDEN_SIZE = 256\n",
    "OUTPUT_SIZE = 50\n",
    "BATCH_SIZE = 32\n",
    "EPOCHS = 50\n",
    "LR = 1e-6"
   ]
  },
  {
   "cell_type": "code",
   "execution_count": 3,
   "id": "4defd6f8-2c57-432b-a598-aec9135750c7",
   "metadata": {},
   "outputs": [
    {
     "name": "stdout",
     "output_type": "stream",
     "text": [
      "訓練資料共63325筆\n",
      "驗證資料共450筆\n",
      "測試資料共450筆\n"
     ]
    }
   ],
   "source": [
    "dir_path = '../data/'\n",
    "\n",
    "train, train_labels = [], []\n",
    "with open(dir_path + 'train.txt', 'r') as f:\n",
    "  for line in f:\n",
    "    data = line.split(\" \")\n",
    "    train.append(dir_path + data[0])\n",
    "    train_labels.append(data[1].replace('\\n', ''))\n",
    "\n",
    "\n",
    "val, val_labels = [], []\n",
    "with open(dir_path + 'val.txt', 'r') as f:\n",
    "  for line in f:\n",
    "    data = line.split(\" \")\n",
    "    val.append(dir_path + data[0])\n",
    "    val_labels.append(data[1].replace('\\n', ''))\n",
    "\n",
    "\n",
    "test, test_labels = [], []\n",
    "with open(dir_path + 'test.txt', 'r') as f:\n",
    "  for line in f:\n",
    "    data = line.split(\" \")\n",
    "    test.append(dir_path + data[0])\n",
    "    test_labels.append(data[1].replace('\\n', ''))\n",
    "\n",
    "print(f'訓練資料共{len(train)}筆')\n",
    "print(f'驗證資料共{len(val)}筆')\n",
    "print(f'測試資料共{len(test)}筆')"
   ]
  },
  {
   "cell_type": "markdown",
   "id": "96100ddc-89d9-401e-96ea-bf0561a4181c",
   "metadata": {},
   "source": [
    "### 資料前處理"
   ]
  },
  {
   "cell_type": "code",
   "execution_count": 4,
   "id": "e7c45650-1bd3-4ec2-b655-dc2b4bf0806d",
   "metadata": {},
   "outputs": [],
   "source": [
    "def data_preprocess(paths):\n",
    "    features = []\n",
    "    for path in tqdm(paths):\n",
    "        # 讀取image，並轉為灰階影像\n",
    "        img = cv2.imread(path, 0)\n",
    "        # resize圖片成256*256\n",
    "        img = cv2.resize(img, (256, 256))\n",
    "        img = cv2.calcHist(img, [0], None, [64], [0,255])\n",
    "        # 灰階圖片數值介於0~255之間\n",
    "        image_normalize = img / 255\n",
    "        # 轉成一維\n",
    "        image_flatten = image_normalize.flatten()\n",
    "        features.append(image_flatten)\n",
    "        \n",
    "    return features\n",
    "\n",
    "def feature_extraction(paths):\n",
    "    color_features = []\n",
    "    for path in tqdm(paths):\n",
    "        img = cv2.imread(path)\n",
    "        img = cv2.resize(img, (256, 256))\n",
    "        \n",
    "        # color histograms彩色直方图\n",
    "        # 0:blue 1:green 2:red\n",
    "        color_channels = cv2.split(img)\n",
    "        bg_features = cv2.calcHist([color_channels[0], color_channels[1]], [0, 1], None, [16, 16], [0, 256, 0, 256]).flatten()\n",
    "        br_features = cv2.calcHist([color_channels[0], color_channels[2]], [0, 1], None, [16, 16], [0, 256, 0, 256]).flatten()\n",
    "        gr_features = cv2.calcHist([color_channels[1], color_channels[2]], [0, 1], None, [16, 16], [0, 256, 0, 256]).flatten()\n",
    "        # 標準化(MaxAbs)，雙色圖片 256*256\n",
    "        total_features = np.concatenate([bg_features, br_features, gr_features]) / 65536\n",
    "        color_features.append(total_features)\n",
    "    return color_features"
   ]
  },
  {
   "cell_type": "code",
   "execution_count": 5,
   "id": "cdd4ec50-8f54-4cca-a33f-1607bade7c79",
   "metadata": {},
   "outputs": [
    {
     "data": {
      "application/vnd.jupyter.widget-view+json": {
       "model_id": "61d570b81ea643bf9c1bb4ec24758d21",
       "version_major": 2,
       "version_minor": 0
      },
      "text/plain": [
       "  0%|          | 0/63325 [00:00<?, ?it/s]"
      ]
     },
     "metadata": {},
     "output_type": "display_data"
    },
    {
     "data": {
      "application/vnd.jupyter.widget-view+json": {
       "model_id": "8efca105b792464d85c01ef6170fcfc1",
       "version_major": 2,
       "version_minor": 0
      },
      "text/plain": [
       "  0%|          | 0/450 [00:00<?, ?it/s]"
      ]
     },
     "metadata": {},
     "output_type": "display_data"
    },
    {
     "data": {
      "application/vnd.jupyter.widget-view+json": {
       "model_id": "283065aff0bd40a3a7f803427b1b07c6",
       "version_major": 2,
       "version_minor": 0
      },
      "text/plain": [
       "  0%|          | 0/450 [00:00<?, ?it/s]"
      ]
     },
     "metadata": {},
     "output_type": "display_data"
    },
    {
     "name": "stdout",
     "output_type": "stream",
     "text": [
      "CPU times: user 2min 7s, sys: 3.66 s, total: 2min 11s\n",
      "Wall time: 2min 17s\n"
     ]
    }
   ],
   "source": [
    "%%time\n",
    "# train_features = data_preprocess(train)\n",
    "# val_features = data_preprocess(val)\n",
    "# test_features = data_preprocess(test)\n",
    "train_features = feature_extraction(train)\n",
    "val_features = feature_extraction(val)\n",
    "test_features = feature_extraction(test)"
   ]
  },
  {
   "cell_type": "markdown",
   "id": "937b394d-0952-4393-bba1-ede5c7bb49e4",
   "metadata": {},
   "source": [
    "### OneHotEncoding"
   ]
  },
  {
   "cell_type": "code",
   "execution_count": 6,
   "id": "0eee0cab-297f-4da1-98b5-15d35a3e2c2e",
   "metadata": {},
   "outputs": [],
   "source": [
    "# 轉成np.array再轉成oneHotEncoding\n",
    "def OneHotEncoding(labels):\n",
    "    return np.eye(50)[np.array(list(map(int, labels)))]"
   ]
  },
  {
   "cell_type": "markdown",
   "id": "2a39d33d-6816-42c1-bbba-5142e748f40c",
   "metadata": {},
   "source": [
    "### shuffle tool"
   ]
  },
  {
   "cell_type": "code",
   "execution_count": 7,
   "id": "5860ab9e-6953-4db7-808b-aa88dada69e2",
   "metadata": {},
   "outputs": [],
   "source": [
    "def shuffle(x, y):\n",
    "    index = np.arange(x.shape[0])\n",
    "    np.random.shuffle(index)\n",
    "    return x[index], y[index]"
   ]
  },
  {
   "cell_type": "code",
   "execution_count": 8,
   "id": "588d90ab-244f-45d0-a562-fc92a225f9d7",
   "metadata": {},
   "outputs": [],
   "source": [
    "X_train, Y_train = shuffle(np.array(train_features), OneHotEncoding(train_labels))\n",
    "X_val, Y_val = shuffle(np.array(val_features), OneHotEncoding(val_labels))\n",
    "X_test, Y_test = shuffle(np.array(test_features), OneHotEncoding(test_labels))"
   ]
  },
  {
   "cell_type": "markdown",
   "id": "12aad208-f61e-4b6a-894e-5840c7a7a3da",
   "metadata": {},
   "source": [
    "### 評估指標"
   ]
  },
  {
   "cell_type": "code",
   "execution_count": 9,
   "id": "20191802-e88b-42e2-8c5a-475f9dc52b86",
   "metadata": {},
   "outputs": [],
   "source": [
    "def top1_acc(labels, pro):\n",
    "    correct = []\n",
    "    for i, p in enumerate(pro):\n",
    "        pred_y = np.argsort(p)[-1]\n",
    "        if int(labels[i]) == pred_y:\n",
    "            correct.append(1)\n",
    "        else:\n",
    "            correct.append(0)\n",
    "    \n",
    "    return round(sum(correct) / len(correct), 4)\n",
    "\n",
    "def top5_acc(labels, pro):\n",
    "    correct = []\n",
    "    for i, p in enumerate(pro):\n",
    "        top5_y = np.argsort(p)[-5:]\n",
    "        if int(labels[i]) in list(top5_y):\n",
    "            correct.append(1)\n",
    "        else:\n",
    "            correct.append(0)\n",
    "    \n",
    "    return round(sum(correct) / len(correct), 4)"
   ]
  },
  {
   "cell_type": "markdown",
   "id": "68947643-9a53-4c29-aead-8776803a57c4",
   "metadata": {},
   "source": [
    "### Activation Function\n",
    "- relu\n",
    "- sigmoid\n",
    "- [softmax](https://zhuanlan.zhihu.com/p/105722023)"
   ]
  },
  {
   "cell_type": "code",
   "execution_count": 10,
   "id": "95ce5b66-e33a-412a-b063-df720bec839c",
   "metadata": {},
   "outputs": [],
   "source": [
    "class relu():\n",
    "    def __init__(self):\n",
    "        self.x = None\n",
    "    def forward(self, x):\n",
    "        self.x = x\n",
    "        return np.maximum(0, self.x)\n",
    "\n",
    "    def backward(self, delta, weight):\n",
    "        grad = np.dot(delta, weight)\n",
    "        grad[self.x <= 0] = 0\n",
    "        return grad\n",
    "    \n",
    "class sigmoid():\n",
    "    def __init__(self):\n",
    "        self.x = None\n",
    "        \n",
    "    def forward(self, x):\n",
    "        self.x = x\n",
    "        return 1.0 / (1.0 + np.exp(-x))\n",
    "\n",
    "    def backward(self, delta, weight):\n",
    "        grad = np.dot(delta, weight)\n",
    "        return grad * self.x * (1-self.x)\n",
    "\n",
    "class softmax():\n",
    "    def __init__(self):\n",
    "        pass\n",
    "    def forward(self, x):\n",
    "        # C = np.max(x)\n",
    "        # z = np.exp(x-C)\n",
    "        z = np.exp(x)\n",
    "        return z / np.sum(z, axis=1, keepdims=True)\n",
    "\n",
    "    def backward(self, y_pred, y_true):\n",
    "        return y_pred - y_true"
   ]
  },
  {
   "cell_type": "markdown",
   "id": "629d4a43-ae75-449b-811c-2c6cc324def0",
   "metadata": {},
   "source": [
    "### Loss Function"
   ]
  },
  {
   "cell_type": "code",
   "execution_count": 11,
   "id": "345350a6-63bc-482b-9d87-088aefc21829",
   "metadata": {},
   "outputs": [],
   "source": [
    "def CrossEntropy(y_pred, y_true):\n",
    "    # np.seterr(divide = 'ignore')\n",
    "    # loss = -np.sum(np.multiply(y_true , np.log(y_pred)))\n",
    "    loss = -np.sum(np.multiply(y_true , np.log(y_pred, where=y_pred>0)))\n",
    "    return loss"
   ]
  },
  {
   "cell_type": "markdown",
   "id": "6ce57035-696f-43ec-a4b4-9ec83c5abf47",
   "metadata": {},
   "source": [
    "### Two-Layer Perceptron(neural network)\n",
    "- https://machinelearningmastery.com/implement-backpropagation-algorithm-scratch-python/\n",
    "- ChatGPT"
   ]
  },
  {
   "cell_type": "code",
   "execution_count": 12,
   "id": "f3d3149a-59e3-4fd9-903b-d87ddc989cea",
   "metadata": {},
   "outputs": [],
   "source": [
    "class TwoLayerPerceptron:\n",
    "    def __init__(self, input_size, hidden_size, output_size, batch_size, epochs, lr, random_state):\n",
    "        self.batch_size = batch_size\n",
    "        self.epochs = epochs\n",
    "        self.lr = lr\n",
    "        self.relu = relu()\n",
    "        self.sigmoid = sigmoid()\n",
    "        self.softmax = softmax()\n",
    "        self.w1 = np.random.RandomState(random_state).rand(input_size, hidden_size)\n",
    "        self.b1 = np.random.RandomState(random_state).rand(hidden_size,)\n",
    "        self.w2 = np.random.RandomState(random_state).rand(hidden_size, output_size)\n",
    "        self.b2 = np.random.RandomState(random_state).rand(output_size,)\n",
    "        # self.w1 = np.random.normal(0, 0.01, (input_size, hidden_size))\n",
    "        # self.b1 = np.zeros(hidden_size)\n",
    "        # self.w2 = np.random.normal(0, 0.01, (hidden_size, output_size))\n",
    "        # self.b2 = np.zeros(output_size)\n",
    "        \n",
    "        \n",
    "    def forward(self, x):\n",
    "        # 第一層: relu激活函數\n",
    "        self.s1 = np.dot(x, self.w1) + self.b1\n",
    "        self.a1 = self.relu.forward(self.s1)\n",
    "        # self.a1 = self.sigmoid.forward(self.s1)\n",
    "        # 第二層: softmax計算各類別機率\n",
    "        self.s2 = np.dot(self.a1, self.w2) + self.b2\n",
    "        self.y_pred = self.softmax.forward(self.s2)\n",
    "        return self.y_pred\n",
    "        \n",
    "    def backward(self, x, y): \n",
    "        # 第二層 upstream gradient\n",
    "        delta3 = self.softmax.backward(self.y_pred, y) \n",
    "        self.dw2 = np.dot(self.a1.T, delta3)\n",
    "        self.db2 = np.sum(delta3)\n",
    "        # 第一層\n",
    "        delta2 = self.relu.backward(delta3, self.w2.T) \n",
    "        # delta2 = self.sigmoid.backward(delta3, self.w2.T)\n",
    "        self.dw1 = np.dot(x.T, delta2)\n",
    "        self.db1 = np.sum(delta2)\n",
    "        # 調整WEIGHT, BIAS\n",
    "        self.step()\n",
    "    \n",
    "    def step(self):\n",
    "        self.w1 -= self.lr * self.dw1\n",
    "        self.w2 -= self.lr * self.dw2\n",
    "        self.b1 -= self.lr * self.db1\n",
    "        self.b2 -= self.lr * self.db2\n",
    "        \n",
    "    def train(self, X_train, Y_train, X_val, Y_val):\n",
    "        loss_list = []\n",
    "        for epoch in range(self.epochs):\n",
    "            train_acc = 0\n",
    "            train_top5_acc = 0\n",
    "            train_loss = 0\n",
    "            for i in range(0, len(X_train), self.batch_size):\n",
    "                X_batch = X_train[i: i + self.batch_size]\n",
    "                Y_batch = Y_train[i: i + self.batch_size]\n",
    "                probs = self.forward(X_batch)\n",
    "                self.backward(X_batch, Y_batch)\n",
    "                \n",
    "                # Evaluate the accuracy and loss\n",
    "                # train_acc += top1_acc(np.argmax(Y_batch, axis=1), np.argmax(probs, axis=1))\n",
    "                train_acc += accuracy_score(np.argmax(Y_batch, axis=1), np.argmax(probs, axis=1))\n",
    "                train_top5_acc += top5_acc(np.argmax(Y_batch, axis=1), probs)\n",
    "                train_loss += CrossEntropy(probs, Y_batch)\n",
    "            \n",
    "            # 計算平均準確率及訓練損失\n",
    "            train_time = math.ceil(len(X_train)/self.batch_size)\n",
    "            train_acc = train_acc / train_time\n",
    "            train_top5_acc = train_top5_acc / train_time\n",
    "            train_loss = train_loss / train_time\n",
    "            # 計算驗證準確率及損失\n",
    "            val_probs = self.forward(X_val)\n",
    "            val_acc =  accuracy_score(np.argmax(Y_val, axis=1), np.argmax(val_probs, axis=1))\n",
    "            val_top5_acc = top5_acc(np.argmax(Y_val, axis=1), val_probs)\n",
    "            val_loss = CrossEntropy(val_probs, Y_val)\n",
    "            \n",
    "            loss_list.append([train_acc, train_top5_acc, train_loss, val_acc, val_top5_acc, val_loss])\n",
    "            print(f\"Epoch {epoch+1}：\\ntrain_acc: {train_acc:.4f} | train_loss: {train_loss:.4f} | val_acc: {val_acc:.4f} | val_loss: {val_loss:.4f}\")\n",
    "            \n",
    "        return loss_list\n",
    "    \n",
    "    def predict(self, X_test, Y_test):\n",
    "        test_probs = self.forward(X_test)\n",
    "        test_acc = accuracy_score(np.argmax(Y_test, axis=1), np.argmax(test_probs, axis=1))\n",
    "        test_top5_acc = top5_acc(np.argmax(Y_test, axis=1), test_probs)\n",
    "        test_loss = CrossEntropy(test_probs, Y_test)\n",
    "        print(f\"\\nTest：\\ntest_acc: {test_acc:.4f} | test_top5_acc: {test_top5_acc:.4f} | test_loss: {test_loss:.4f}\")\n",
    "        return [test_acc, test_top5_acc, test_loss]"
   ]
  },
  {
   "cell_type": "code",
   "execution_count": 16,
   "id": "78fa8a3c-6fb6-4808-ab00-520be498cbfc",
   "metadata": {
    "tags": []
   },
   "outputs": [
    {
     "name": "stdout",
     "output_type": "stream",
     "text": [
      "Epoch 1：\n",
      "train_acc: 0.0207 | train_loss: 359.7055 | val_acc: 0.0178 | val_loss: 4023.4805\n",
      "Epoch 2：\n",
      "train_acc: 0.0198 | train_loss: 252.6279 | val_acc: 0.0200 | val_loss: 3198.0379\n",
      "Epoch 3：\n",
      "train_acc: 0.0194 | train_loss: 211.2058 | val_acc: 0.0222 | val_loss: 2785.2891\n",
      "Epoch 4：\n",
      "train_acc: 0.0186 | train_loss: 188.9014 | val_acc: 0.0222 | val_loss: 2545.9018\n",
      "Epoch 5：\n",
      "train_acc: 0.0186 | train_loss: 175.2694 | val_acc: 0.0222 | val_loss: 2390.9506\n",
      "Epoch 6：\n",
      "train_acc: 0.0187 | train_loss: 166.0427 | val_acc: 0.0267 | val_loss: 2281.2408\n",
      "Epoch 7：\n",
      "train_acc: 0.0192 | train_loss: 159.2472 | val_acc: 0.0244 | val_loss: 2197.5917\n",
      "Epoch 8：\n",
      "train_acc: 0.0192 | train_loss: 153.9152 | val_acc: 0.0244 | val_loss: 2130.5979\n",
      "Epoch 9：\n",
      "train_acc: 0.0192 | train_loss: 149.5789 | val_acc: 0.0244 | val_loss: 2075.7255\n",
      "Epoch 10：\n",
      "train_acc: 0.0193 | train_loss: 146.0106 | val_acc: 0.0267 | val_loss: 2030.6805\n",
      "Epoch 11：\n",
      "train_acc: 0.0194 | train_loss: 143.0896 | val_acc: 0.0267 | val_loss: 1994.0908\n",
      "Epoch 12：\n",
      "train_acc: 0.0193 | train_loss: 140.7331 | val_acc: 0.0289 | val_loss: 1964.8624\n",
      "Epoch 13：\n",
      "train_acc: 0.0194 | train_loss: 138.8611 | val_acc: 0.0289 | val_loss: 1941.8095\n",
      "Epoch 14：\n",
      "train_acc: 0.0193 | train_loss: 137.3863 | val_acc: 0.0289 | val_loss: 1923.6790\n",
      "Epoch 15：\n",
      "train_acc: 0.0191 | train_loss: 136.2191 | val_acc: 0.0289 | val_loss: 1909.2374\n",
      "Epoch 16：\n",
      "train_acc: 0.0190 | train_loss: 135.2778 | val_acc: 0.0311 | val_loss: 1897.4373\n",
      "Epoch 17：\n",
      "train_acc: 0.0189 | train_loss: 134.4956 | val_acc: 0.0311 | val_loss: 1887.4657\n",
      "Epoch 18：\n",
      "train_acc: 0.0190 | train_loss: 133.8227 | val_acc: 0.0311 | val_loss: 1878.7467\n",
      "Epoch 19：\n",
      "train_acc: 0.0192 | train_loss: 133.2247 | val_acc: 0.0311 | val_loss: 1870.8867\n",
      "Epoch 20：\n",
      "train_acc: 0.0195 | train_loss: 132.6790 | val_acc: 0.0289 | val_loss: 1863.6384\n",
      "Epoch 21：\n",
      "train_acc: 0.0198 | train_loss: 132.1715 | val_acc: 0.0289 | val_loss: 1856.8508\n",
      "Epoch 22：\n",
      "train_acc: 0.0200 | train_loss: 131.6944 | val_acc: 0.0267 | val_loss: 1850.4501\n",
      "Epoch 23：\n",
      "train_acc: 0.0201 | train_loss: 131.2442 | val_acc: 0.0267 | val_loss: 1844.4117\n",
      "Epoch 24：\n",
      "train_acc: 0.0202 | train_loss: 130.8201 | val_acc: 0.0267 | val_loss: 1838.7430\n",
      "Epoch 25：\n",
      "train_acc: 0.0203 | train_loss: 130.4235 | val_acc: 0.0267 | val_loss: 1833.4750\n",
      "Epoch 26：\n",
      "train_acc: 0.0203 | train_loss: 130.0571 | val_acc: 0.0244 | val_loss: 1828.6536\n",
      "Epoch 27：\n",
      "train_acc: 0.0203 | train_loss: 129.7241 | val_acc: 0.0244 | val_loss: 1824.3251\n",
      "Epoch 28：\n",
      "train_acc: 0.0203 | train_loss: 129.4278 | val_acc: 0.0244 | val_loss: 1820.5322\n",
      "Epoch 29：\n",
      "train_acc: 0.0204 | train_loss: 129.1707 | val_acc: 0.0244 | val_loss: 1817.2996\n",
      "Epoch 30：\n",
      "train_acc: 0.0203 | train_loss: 128.9537 | val_acc: 0.0244 | val_loss: 1814.6286\n",
      "Epoch 31：\n",
      "train_acc: 0.0204 | train_loss: 128.7763 | val_acc: 0.0244 | val_loss: 1812.4948\n",
      "Epoch 32：\n",
      "train_acc: 0.0204 | train_loss: 128.6357 | val_acc: 0.0244 | val_loss: 1810.8491\n",
      "Epoch 33：\n",
      "train_acc: 0.0204 | train_loss: 128.5281 | val_acc: 0.0244 | val_loss: 1809.6236\n",
      "Epoch 34：\n",
      "train_acc: 0.0205 | train_loss: 128.4480 | val_acc: 0.0244 | val_loss: 1808.7392\n",
      "Epoch 35：\n",
      "train_acc: 0.0205 | train_loss: 128.3900 | val_acc: 0.0244 | val_loss: 1808.1149\n",
      "Epoch 36：\n",
      "train_acc: 0.0206 | train_loss: 128.3484 | val_acc: 0.0244 | val_loss: 1807.6766\n",
      "Epoch 37：\n",
      "train_acc: 0.0206 | train_loss: 128.3184 | val_acc: 0.0244 | val_loss: 1807.3632\n",
      "Epoch 38：\n",
      "train_acc: 0.0206 | train_loss: 128.2961 | val_acc: 0.0244 | val_loss: 1807.1283\n",
      "Epoch 39：\n",
      "train_acc: 0.0207 | train_loss: 128.2788 | val_acc: 0.0244 | val_loss: 1806.9401\n",
      "Epoch 40：\n",
      "train_acc: 0.0207 | train_loss: 128.2646 | val_acc: 0.0244 | val_loss: 1806.7777\n",
      "Epoch 41：\n",
      "train_acc: 0.0207 | train_loss: 128.2520 | val_acc: 0.0244 | val_loss: 1806.6288\n",
      "Epoch 42：\n",
      "train_acc: 0.0208 | train_loss: 128.2405 | val_acc: 0.0244 | val_loss: 1806.4862\n",
      "Epoch 43：\n",
      "train_acc: 0.0209 | train_loss: 128.2296 | val_acc: 0.0267 | val_loss: 1806.3461\n",
      "Epoch 44：\n",
      "train_acc: 0.0209 | train_loss: 128.2190 | val_acc: 0.0267 | val_loss: 1806.2065\n",
      "Epoch 45：\n",
      "train_acc: 0.0210 | train_loss: 128.2085 | val_acc: 0.0267 | val_loss: 1806.0667\n",
      "Epoch 46：\n",
      "train_acc: 0.0211 | train_loss: 128.1982 | val_acc: 0.0267 | val_loss: 1805.9263\n",
      "Epoch 47：\n",
      "train_acc: 0.0211 | train_loss: 128.1879 | val_acc: 0.0267 | val_loss: 1805.7852\n",
      "Epoch 48：\n",
      "train_acc: 0.0211 | train_loss: 128.1776 | val_acc: 0.0267 | val_loss: 1805.6435\n",
      "Epoch 49：\n",
      "train_acc: 0.0211 | train_loss: 128.1674 | val_acc: 0.0244 | val_loss: 1805.5012\n",
      "Epoch 50：\n",
      "train_acc: 0.0211 | train_loss: 128.1572 | val_acc: 0.0244 | val_loss: 1805.3586\n",
      "\n",
      "Test：\n",
      "test_acc: 0.0200 | test_top5_acc: 0.0956 | test_loss: 1805.0483\n",
      "CPU times: user 1h 1min 50s, sys: 1h 19min 37s, total: 2h 21min 27s\n",
      "Wall time: 24min 34s\n"
     ]
    }
   ],
   "source": [
    "%%time\n",
    "# Train the two-layer perceptron\n",
    "tlp = TwoLayerPerceptron(INPUT_SIZE, HIDDEN_SIZE, OUTPUT_SIZE, BATCH_SIZE, EPOCHS, LR, RANDOM_STATE)\n",
    "train_result = tlp.train(X_train, Y_train, X_val, Y_val)\n",
    "test_result = tlp.predict(X_test, Y_test)"
   ]
  },
  {
   "cell_type": "code",
   "execution_count": 19,
   "id": "2a5fd577-3442-4425-bdaa-db03deec16cf",
   "metadata": {},
   "outputs": [
    {
     "data": {
      "text/plain": [
       "(0.024444444444444446, 0.1111)"
      ]
     },
     "execution_count": 19,
     "metadata": {},
     "output_type": "execute_result"
    }
   ],
   "source": [
    "train_result[-1][3], train_result[-1][4]"
   ]
  },
  {
   "cell_type": "code",
   "execution_count": 17,
   "id": "81b3c359-a676-4445-a1d7-441eb67aa9eb",
   "metadata": {},
   "outputs": [
    {
     "data": {
      "image/png": "[encoded data removed]",
      "text/plain": [
       "<Figure size 432x288 with 1 Axes>"
      ]
     },
     "metadata": {
      "needs_background": "light"
     },
     "output_type": "display_data"
    },
    {
     "data": {
      "image/png": "[encoded data removed]",
      "text/plain": [
       "<Figure size 432x288 with 1 Axes>"
      ]
     },
     "metadata": {
      "needs_background": "light"
     },
     "output_type": "display_data"
    },
    {
     "data": {
      "image/png": "[encoded data removed]",
      "text/plain": [
       "<Figure size 432x288 with 1 Axes>"
      ]
     },
     "metadata": {
      "needs_background": "light"
     },
     "output_type": "display_data"
    }
   ],
   "source": [
    "def plot_my_accuracy(train_result):\n",
    "    plt.plot([x[0] for x in train_result])\n",
    "    plt.plot([x[3] for x in train_result])\n",
    "    plt.title('Top1 Accuracy History')\n",
    "    plt.ylabel('Top1 Accuracy')\n",
    "    plt.xlabel('Epoch')\n",
    "    plt.legend(['train', 'val'], loc='upper left')\n",
    "    plt.savefig(\"top5_acc.png\")\n",
    "    plt.show()\n",
    "\n",
    "plot_my_accuracy(train_result)\n",
    "\n",
    "def plot_my_top5_accuracy(train_result):\n",
    "    plt.plot([x[1] for x in train_result])\n",
    "    plt.plot([x[4] for x in train_result])\n",
    "    plt.title('Top5 Accuracy History')\n",
    "    plt.ylabel('Top5 Accuracy')\n",
    "    plt.xlabel('Epoch')\n",
    "    plt.legend(['train', 'val'], loc='upper left')\n",
    "    plt.savefig(\"top5_acc.png\")\n",
    "    plt.show()\n",
    "    \n",
    "\n",
    "plot_my_top5_accuracy(train_result)\n",
    "\n",
    "def plot_my_loss(train_result):\n",
    "    plt.clf()\n",
    "    plt.plot([x[2] for x in train_result])\n",
    "    plt.plot([x[5] for x in train_result])\n",
    "    plt.title('Loss History')\n",
    "    plt.ylabel('Loss')\n",
    "    plt.xlabel('Epoch')\n",
    "    plt.legend(['train', 'val'], loc='upper left')\n",
    "    plt.savefig(\"loss.png\")\n",
    "    plt.show()\n",
    "    \n",
    "\n",
    "plot_my_loss(train_result)"
   ]
  },
  {
   "cell_type": "code",
   "execution_count": null,
   "id": "0feb399d-9118-4475-9e5c-445bd8c4a7b5",
   "metadata": {},
   "outputs": [],
   "source": []
  }
 ],
 "metadata": {
  "kernelspec": {
   "display_name": "Python 3 (ipykernel)",
   "language": "python",
   "name": "python3"
  },
  "language_info": {
   "codemirror_mode": {
    "name": "ipython",
    "version": 3
   },
   "file_extension": ".py",
   "mimetype": "text/x-python",
   "name": "python",
   "nbconvert_exporter": "python",
   "pygments_lexer": "ipython3",
   "version": "3.8.10"
  }
 },
 "nbformat": 4,
 "nbformat_minor": 5
}
