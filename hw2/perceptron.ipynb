{
 "cells": [
  {
   "cell_type": "code",
   "execution_count": 1,
   "id": "20909205-e3c3-445f-a934-c9e1a71f2deb",
   "metadata": {},
   "outputs": [],
   "source": [
    "import numpy as np\n",
    "import math\n",
    "import seaborn as sns\n",
    "import matplotlib.pyplot as plt\n",
    "from tqdm.notebook import tqdm\n",
    "import cv2\n",
    "from sklearn.linear_model import Perceptron\n",
    "from sklearn.metrics import accuracy_score\n",
    "from sklearn.decomposition import PCA\n",
    "\n",
    "RANDOM_STATE = 101"
   ]
  },
  {
   "cell_type": "code",
   "execution_count": 2,
   "id": "f95caef1-e303-474f-8234-e80899f60f20",
   "metadata": {},
   "outputs": [
    {
     "name": "stdout",
     "output_type": "stream",
     "text": [
      "訓練資料共63325筆\n",
      "驗證資料共450筆\n",
      "測試資料共450筆\n"
     ]
    }
   ],
   "source": [
    "dir_path = '../data/'\n",
    "\n",
    "train, train_labels = [], []\n",
    "with open(dir_path + 'train.txt', 'r') as f:\n",
    "  for line in f:\n",
    "    data = line.split(\" \")\n",
    "    train.append(dir_path + data[0])\n",
    "    train_labels.append(data[1].replace('\\n', ''))\n",
    "\n",
    "\n",
    "val, val_labels = [], []\n",
    "with open(dir_path + 'val.txt', 'r') as f:\n",
    "  for line in f:\n",
    "    data = line.split(\" \")\n",
    "    val.append(dir_path + data[0])\n",
    "    val_labels.append(data[1].replace('\\n', ''))\n",
    "\n",
    "\n",
    "test, test_labels = [], []\n",
    "with open(dir_path + 'test.txt', 'r') as f:\n",
    "  for line in f:\n",
    "    data = line.split(\" \")\n",
    "    test.append(dir_path + data[0])\n",
    "    test_labels.append(data[1].replace('\\n', ''))\n",
    "\n",
    "print(f'訓練資料共{len(train)}筆')\n",
    "print(f'驗證資料共{len(val)}筆')\n",
    "print(f'測試資料共{len(test)}筆')"
   ]
  },
  {
   "cell_type": "markdown",
   "id": "dfaf0111-05b5-4019-9293-6faa5ca82b81",
   "metadata": {},
   "source": [
    "### 特徵擷取\n",
    "- [Color Histograms彩色直方图](https://blog.csdn.net/cliukai/article/details/101379638)"
   ]
  },
  {
   "cell_type": "code",
   "execution_count": 3,
   "id": "c4812514-02ca-48d0-bddd-21a5733be992",
   "metadata": {},
   "outputs": [],
   "source": [
    "# PCA\n",
    "# def data_preprocess(paths):\n",
    "#     features = []\n",
    "#     max_len = 256 * 5\n",
    "#     for path in tqdm(paths):\n",
    "#         # 讀取image，並轉為灰階影像\n",
    "#         image = cv2.imread(path, 0)\n",
    "#         img = cv2.resize(img, (256, 256))\n",
    "#         # 灰階圖片數值介於0~255之間\n",
    "#         image_normalize = image/255\n",
    "#         # 使用pca降維，保留5個components\n",
    "#         pca = PCA(n_components=5)\n",
    "#         pca.fit(image_normalize)\n",
    "#         image_pca = pca.transform(image_normalize)\n",
    "#         image_fla = image_pca.flatten()\n",
    "#         # 補0到最大長度\n",
    "#         if len(image_fla) < max_len:\n",
    "#             pad_feature = np.pad(image_fla, (0, max_len-len(image_fla)), 'constant', constant_values=0)\n",
    "#             features.append(pad_feature.flatten())\n",
    "#         else:\n",
    "#             features.append(image_fla)\n",
    "\n",
    "#     return features\n",
    "\n",
    "def feature_extraction(paths):\n",
    "    color_features = []\n",
    "    for path in tqdm(paths):\n",
    "        img = cv2.imread(path)\n",
    "        img = cv2.resize(img, (256, 256))\n",
    "        \n",
    "        # color histograms彩色直方图\n",
    "        # 0:blue 1:green 2:red\n",
    "        color_channels = cv2.split(img)\n",
    "        bg_features = cv2.calcHist([color_channels[0], color_channels[1]], [0, 1], None, [16, 16], [0, 256, 0, 256]).flatten()\n",
    "        br_features = cv2.calcHist([color_channels[0], color_channels[2]], [0, 1], None, [16, 16], [0, 256, 0, 256]).flatten()\n",
    "        gr_features = cv2.calcHist([color_channels[1], color_channels[2]], [0, 1], None, [16, 16], [0, 256, 0, 256]).flatten()\n",
    "        # 標準化(MaxAbs)，雙色圖片 256*256\n",
    "        total_features = np.concatenate([bg_features, br_features, gr_features]) / 65536\n",
    "        color_features.append(total_features)\n",
    "    return color_features"
   ]
  },
  {
   "cell_type": "code",
   "execution_count": 4,
   "id": "5e990829-3128-4a7c-a04c-d79f55c398c8",
   "metadata": {},
   "outputs": [
    {
     "data": {
      "application/vnd.jupyter.widget-view+json": {
       "model_id": "6560222d7a9142abb529c3f659d67306",
       "version_major": 2,
       "version_minor": 0
      },
      "text/plain": [
       "  0%|          | 0/63325 [00:00<?, ?it/s]"
      ]
     },
     "metadata": {},
     "output_type": "display_data"
    },
    {
     "data": {
      "application/vnd.jupyter.widget-view+json": {
       "model_id": "c1530a9293ec4bb295483f66f397776f",
       "version_major": 2,
       "version_minor": 0
      },
      "text/plain": [
       "  0%|          | 0/450 [00:00<?, ?it/s]"
      ]
     },
     "metadata": {},
     "output_type": "display_data"
    },
    {
     "data": {
      "application/vnd.jupyter.widget-view+json": {
       "model_id": "4a601b9f1c524059bf3f60d21bbd537b",
       "version_major": 2,
       "version_minor": 0
      },
      "text/plain": [
       "  0%|          | 0/450 [00:00<?, ?it/s]"
      ]
     },
     "metadata": {},
     "output_type": "display_data"
    },
    {
     "name": "stdout",
     "output_type": "stream",
     "text": [
      "CPU times: user 3min 14s, sys: 10.2 s, total: 3min 24s\n",
      "Wall time: 18min 47s\n"
     ]
    }
   ],
   "source": [
    "%%time\n",
    "train_features = feature_extraction(train)\n",
    "val_features = feature_extraction(val)\n",
    "test_features = feature_extraction(test)"
   ]
  },
  {
   "cell_type": "markdown",
   "id": "78d7d29e-7a36-4b9c-93d8-c44132db86b5",
   "metadata": {},
   "source": [
    "### 評估指標"
   ]
  },
  {
   "cell_type": "code",
   "execution_count": 5,
   "id": "24476e72-0d05-4d5c-877b-6139b75ef0fd",
   "metadata": {},
   "outputs": [],
   "source": [
    "def top1_acc(labels, pro):\n",
    "    correct = []\n",
    "    for i, p in enumerate(pro):\n",
    "        pred_y = np.argsort(p)[-1]\n",
    "        if int(labels[i]) == pred_y:\n",
    "            correct.append(1)\n",
    "        else:\n",
    "            correct.append(0)\n",
    "    \n",
    "    return round(sum(correct) / len(correct), 4)\n",
    "\n",
    "def top5_acc(labels, pro):\n",
    "    correct = []\n",
    "    for i, p in enumerate(pro):\n",
    "        top5_y = np.argsort(p)[-5:]\n",
    "        if int(labels[i]) in list(top5_y):\n",
    "            correct.append(1)\n",
    "        else:\n",
    "            correct.append(0)\n",
    "    \n",
    "    return round(sum(correct) / len(correct), 4)"
   ]
  },
  {
   "cell_type": "markdown",
   "id": "ebfa3427-cb75-4881-8a84-3949fcb7050e",
   "metadata": {},
   "source": [
    "### [Single-Layer Perceptron](https://scikit-learn.org/stable/modules/generated/sklearn.linear_model.Perceptron.html#sklearn.linear_model.Perceptron)"
   ]
  },
  {
   "cell_type": "code",
   "execution_count": 6,
   "id": "862094ab-fff7-461a-ae9d-5eb46371dee3",
   "metadata": {
    "tags": []
   },
   "outputs": [
    {
     "name": "stdout",
     "output_type": "stream",
     "text": [
      "Perceptron Classifier\n",
      "validation_data_top1_acc: 0.0133\n",
      "validation_data_top5_acc: 0.0911\n",
      "test_data_top1_acc: 0.0222\n",
      "test_data_top5_acc: 0.1133\n",
      "CPU times: user 26.5 s, sys: 1.3 s, total: 27.8 s\n",
      "Wall time: 1min 22s\n"
     ]
    }
   ],
   "source": [
    "%%time\n",
    "# train Perceptron classifier\n",
    "print('Perceptron Classifier')\n",
    "clf = Perceptron(random_state=RANDOM_STATE)\n",
    "clf.fit(train_features, train_labels)\n",
    "\n",
    "# valid Perceptron classifier\n",
    "val_pro = clf.decision_function(val_features)\n",
    "val_top1_accuracy = top1_acc(val_labels, val_pro)\n",
    "print(f'validation_data_top1_acc: {val_top1_accuracy}')\n",
    "val_top5_accuracy = top5_acc(val_labels, val_pro)\n",
    "print(f'validation_data_top5_acc: {val_top5_accuracy}')\n",
    "\n",
    "\n",
    "# test Perceptron classifier\n",
    "test_pro = clf.decision_function(test_features)\n",
    "test_top1_accuracy = top1_acc(test_labels, test_pro)\n",
    "print(f'test_data_top1_acc: {test_top1_accuracy}')\n",
    "test_top5_accuracy = top5_acc(test_labels, test_pro)\n",
    "print(f'test_data_top5_acc: {test_top5_accuracy}')"
   ]
  }
 ],
 "metadata": {
  "kernelspec": {
   "display_name": "Python 3 (ipykernel)",
   "language": "python",
   "name": "python3"
  },
  "language_info": {
   "codemirror_mode": {
    "name": "ipython",
    "version": 3
   },
   "file_extension": ".py",
   "mimetype": "text/x-python",
   "name": "python",
   "nbconvert_exporter": "python",
   "pygments_lexer": "ipython3",
   "version": "3.8.10"
  }
 },
 "nbformat": 4,
 "nbformat_minor": 5
}
