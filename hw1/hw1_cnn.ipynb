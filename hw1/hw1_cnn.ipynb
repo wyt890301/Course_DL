{
 "cells": [
  {
   "cell_type": "code",
   "execution_count": 1,
   "metadata": {},
   "outputs": [],
   "source": [
    "import numpy as np\n",
    "import pandas as pd  \n",
    "import matplotlib.pyplot as plt\n",
    "import tensorflow as tf\n",
    "from sklearn.model_selection import train_test_split\n",
    "from skimage.io import imread\n",
    "from tqdm.notebook import tqdm\n",
    "from keras.utils import np_utils\n",
    "from keras.models import Sequential\n",
    "from keras.layers import Dense, Dropout, Flatten, Conv2D, MaxPooling2D"
   ]
  },
  {
   "cell_type": "code",
   "execution_count": 4,
   "metadata": {},
   "outputs": [
    {
     "name": "stdout",
     "output_type": "stream",
     "text": [
      "訓練資料共63325筆\n",
      "驗證資料共450筆\n",
      "測試資料共450筆\n"
     ]
    }
   ],
   "source": [
    "dir_path = '../data/'\n",
    "\n",
    "train, train_labels = [], []\n",
    "with open(dir_path + 'train.txt', 'r') as f:\n",
    "  for line in f:\n",
    "    data = line.split(\" \")\n",
    "    train.append(dir_path + data[0])\n",
    "    train_labels.append(data[1].replace('\\n', ''))\n",
    "\n",
    "\n",
    "val, val_labels = [], []\n",
    "with open(dir_path + 'val.txt', 'r') as f:\n",
    "  for line in f:\n",
    "    data = line.split(\" \")\n",
    "    val.append(dir_path + data[0])\n",
    "    val_labels.append(data[1].replace('\\n', ''))\n",
    "\n",
    "\n",
    "test, test_labels = [], []\n",
    "with open(dir_path + 'test.txt', 'r') as f:\n",
    "  for line in f:\n",
    "    data = line.split(\" \")\n",
    "    test.append(dir_path + data[0])\n",
    "    test_labels.append(data[1].replace('\\n', ''))\n",
    "\n",
    "print(f'訓練資料共{len(train)}筆')\n",
    "print(f'驗證資料共{len(val)}筆')\n",
    "print(f'測試資料共{len(test)}筆')"
   ]
  },
  {
   "cell_type": "code",
   "execution_count": null,
   "metadata": {},
   "outputs": [],
   "source": [
    "def feature_extraction(paths):\n",
    "    features = []\n",
    "    for path in tqdm(paths):\n",
    "        image = imread(path, 0) \n",
    "        # 灰階圖片數值介於0~255之間\n",
    "        image_normalize = image/255\n",
    "        # 將圖片壓縮成64*80\n",
    "        image_resize = np.resize(image_normalize, (64, 64, 1))\n",
    "        features.append(image_resize)          \n",
    "    return np.array(features)"
   ]
  },
  {
   "cell_type": "code",
   "execution_count": null,
   "metadata": {},
   "outputs": [],
   "source": [
    "# 資料前處理\n",
    "train_features = feature_extraction(train)\n",
    "train_labels_oneHot = np_utils.to_categorical(train_labels)\n",
    "val_features = feature_extraction(val)\n",
    "val_labels_oneHot = np_utils.to_categorical(val_labels)\n",
    "test_features = feature_extraction(test)\n",
    "test_labels_oneHot = np_utils.to_categorical(test_labels)"
   ]
  },
  {
   "cell_type": "code",
   "execution_count": null,
   "metadata": {},
   "outputs": [],
   "source": [
    "model = Sequential()\n",
    "# 兩層卷積層+最大池化層\n",
    "model.add(Conv2D(filters=32, kernel_size=(3, 3), padding='same', input_shape=(64, 64, 1), activation='relu'))\n",
    "model.add(MaxPooling2D(pool_size=(2, 2)))\n",
    "model.add(Conv2D(filters=64, kernel_size=(3, 3), padding='same', activation='relu'))\n",
    "model.add(MaxPooling2D(pool_size=(2, 2)))\n",
    "#drop掉部分神經元避免overfitting\n",
    "model.add(Dropout(0.5))\n",
    "model.add(Flatten()) #平坦化\n",
    "model.add(Dense(64, activation='relu'))\n",
    "model.add(Dense(len(train_labels_oneHot[0]), activation='softmax'))\n",
    "print(model.summary())"
   ]
  },
  {
   "cell_type": "code",
   "execution_count": null,
   "metadata": {},
   "outputs": [],
   "source": [
    "model.compile(loss='categorical_crossentropy', optimizer='adam',metrics=['accuracy'])\n",
    "# x_train, x_test, y_train, y_test = train_test_split(features, train_labels_oneHot, test_size=0.2, random_state=0)\n",
    "train_history=model.fit(train_features, train_labels_oneHot, epochs=10, batch_size=300, verbose=1, validation_data=(val_features, val_labels_oneHot))"
   ]
  },
  {
   "cell_type": "code",
   "execution_count": null,
   "metadata": {},
   "outputs": [],
   "source": [
    "def plot_my_accuracy(train_acc,test_acc):\n",
    "    plt.plot(train_history.history[train_acc])\n",
    "    plt.plot(train_history.history[test_acc])\n",
    "    plt.title('Accuracy History')\n",
    "    plt.ylabel('Accuracy')\n",
    "    plt.xlabel('Epoch')\n",
    "    plt.legend(['train', 'test'], loc='upper left')\n",
    "    plt.show()\n",
    "\n",
    "plot_my_accuracy('accuracy','val_accuracy')\n",
    "\n",
    "def plot_my_loss(loss,val_loss):\n",
    "    plt.clf()\n",
    "    plt.plot(train_history.history[loss])\n",
    "    plt.plot(train_history.history[val_loss])\n",
    "    plt.title('Loss History')\n",
    "    plt.ylabel('Loss')\n",
    "    plt.xlabel('Epoch')\n",
    "    plt.legend(['train', 'test'], loc='upper left')\n",
    "    plt.show()\n",
    "\n",
    "plot_my_loss('loss','val_loss')"
   ]
  },
  {
   "cell_type": "code",
   "execution_count": null,
   "metadata": {},
   "outputs": [],
   "source": [
    "test_labels=model.predict(test_features, verbose=1, batch_size=32)\n",
    "loss, accuracy = model.evaluate(test_features, test_labels_oneHot)\n",
    "print('Test:')\n",
    "print('Loss: %s\\nAccuracy: %s' % (loss, accuracy))"
   ]
  }
 ],
 "metadata": {
  "kernelspec": {
   "display_name": "Python 3",
   "language": "python",
   "name": "python3"
  },
  "language_info": {
   "codemirror_mode": {
    "name": "ipython",
    "version": 3
   },
   "file_extension": ".py",
   "mimetype": "text/x-python",
   "name": "python",
   "nbconvert_exporter": "python",
   "pygments_lexer": "ipython3",
   "version": "3.11.2"
  },
  "orig_nbformat": 4
 },
 "nbformat": 4,
 "nbformat_minor": 2
}
