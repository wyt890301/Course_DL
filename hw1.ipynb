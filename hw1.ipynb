{
 "cells": [
  {
   "cell_type": "code",
   "execution_count": 1,
   "metadata": {},
   "outputs": [],
   "source": [
    "import numpy as np\n",
    "import seaborn as sns\n",
    "import matplotlib.pyplot as plt\n",
    "from tqdm.notebook import tqdm\n",
    "from skimage.io import imread\n",
    "from skimage.filters import prewitt_h,prewitt_v\n",
    "import cv2\n",
    "from sklearn.model_selection import train_test_split\n",
    "from sklearn.cluster import KMeans\n",
    "from sklearn.svm import SVC\n",
    "from sklearn.linear_model import Perceptron\n",
    "from sklearn.ensemble import AdaBoostClassifier\n",
    "from sklearn.metrics import accuracy_score"
   ]
  },
  {
   "attachments": {},
   "cell_type": "markdown",
   "metadata": {},
   "source": [
    "### Read Dataset List"
   ]
  },
  {
   "cell_type": "code",
   "execution_count": 2,
   "metadata": {},
   "outputs": [
    {
     "name": "stdout",
     "output_type": "stream",
     "text": [
      "訓練資料共63325筆\n",
      "驗證資料共450筆\n",
      "測試資料共450筆\n"
     ]
    }
   ],
   "source": [
    "dir_path = './data/'\n",
    "\n",
    "train, train_labels = [], []\n",
    "with open(dir_path + 'train.txt', 'r') as f:\n",
    "  for line in f:\n",
    "    data = line.split(\" \")\n",
    "    train.append(dir_path + data[0])\n",
    "    train_labels.append(data[1].replace('\\n', ''))\n",
    "\n",
    "\n",
    "val, val_labels = [], []\n",
    "with open(dir_path + 'val.txt', 'r') as f:\n",
    "  for line in f:\n",
    "    data = line.split(\" \")\n",
    "    val.append(dir_path + data[0])\n",
    "    val_labels.append(data[1].replace('\\n', ''))\n",
    "\n",
    "\n",
    "test, test_labels = [], []\n",
    "with open(dir_path + 'test.txt', 'r') as f:\n",
    "  for line in f:\n",
    "    data = line.split(\" \")\n",
    "    test.append(dir_path + data[0])\n",
    "    test_labels.append(data[1].replace('\\n', ''))\n",
    "\n",
    "print(f'訓練資料共{len(train)}筆')\n",
    "print(f'驗證資料共{len(val)}筆')\n",
    "print(f'測試資料共{len(test)}筆')"
   ]
  },
  {
   "attachments": {},
   "cell_type": "markdown",
   "metadata": {},
   "source": [
    "### Feature Extraction (硬體關係跑不動，因此後來沒使用)\n",
    "- [bovw](https://tigercosmos.xyz/post/2020/06/cv/bag-of-visual-words/)\n",
    "- [bovw_github](https://gist.github.com/tigercosmos/a5af5359b81b99669ef59e82839aed60)"
   ]
  },
  {
   "cell_type": "code",
   "execution_count": 3,
   "metadata": {},
   "outputs": [],
   "source": [
    "def get_clusters(paths, cluster_size):\n",
    "    bag_of_features = []\n",
    "    # tqdm(images.items()):\n",
    "    for path in tqdm(paths):   \n",
    "        # 讀取image，並轉為灰階影像\n",
    "        img = cv2.imread(path, 0)\n",
    "        # 利用sift找到圖片的關鍵點\n",
    "        sift = cv2.SIFT_create()                \n",
    "        keypoints, descriptors = sift.detectAndCompute(img, None)\n",
    "\n",
    "        if descriptors is not None:\n",
    "            for des in descriptors:\n",
    "                bag_of_features.append(des)\n",
    "\n",
    "    clusters = KMeans(cluster_size).fit(np.array(bag_of_features).astype('float32'))\n",
    "\n",
    "    return clusters\n",
    "\n",
    "# labels共50個\n",
    "# feature_clusters = get_clusters(train, 50)"
   ]
  },
  {
   "attachments": {},
   "cell_type": "markdown",
   "metadata": {},
   "source": [
    "[edgeDetection](https://kknews.cc/zh-tw/code/y5a5v3g.html)"
   ]
  },
  {
   "cell_type": "code",
   "execution_count": 4,
   "metadata": {},
   "outputs": [],
   "source": [
    "def feature_extraction(paths):\n",
    "    features = []\n",
    "    for path in tqdm(paths):\n",
    "        # 讀取image，並轉為灰階影像\n",
    "        image = imread(path, as_gray=True) \n",
    "        # 為image生成邊緣特徵\n",
    "        edges_prewitt_horizontal = prewitt_h(image) \n",
    "        edges_prewitt_vertical = prewitt_v(edges_prewitt_horizontal) \n",
    "        # 最大特徵長度   \n",
    "        max_len = 80000  \n",
    "         # 轉成一維陣列\n",
    "        edge_features = edges_prewitt_vertical.flatten()\n",
    "        if len(edge_features) < max_len:\n",
    "            pad_features = np.pad(edge_features, (0, max_len-len(edge_features)), 'constant', constant_values=0)\n",
    "            features.append(pad_features)\n",
    "        else:\n",
    "            features.append(edge_features[0: max_len])\n",
    "            \n",
    "    return features"
   ]
  },
  {
   "attachments": {},
   "cell_type": "markdown",
   "metadata": {},
   "source": [
    "### 資料前處理\n"
   ]
  },
  {
   "cell_type": "code",
   "execution_count": 5,
   "metadata": {},
   "outputs": [
    {
     "data": {
      "application/vnd.jupyter.widget-view+json": {
       "model_id": "88280c2926284a1e95ac5d0b9d75a65b",
       "version_major": 2,
       "version_minor": 0
      },
      "text/plain": [
       "  0%|          | 0/6410 [00:00<?, ?it/s]"
      ]
     },
     "metadata": {},
     "output_type": "display_data"
    },
    {
     "data": {
      "application/vnd.jupyter.widget-view+json": {
       "model_id": "0be0ff582c55402fb3780175e50c204c",
       "version_major": 2,
       "version_minor": 0
      },
      "text/plain": [
       "  0%|          | 0/45 [00:00<?, ?it/s]"
      ]
     },
     "metadata": {},
     "output_type": "display_data"
    },
    {
     "data": {
      "application/vnd.jupyter.widget-view+json": {
       "model_id": "d049e78d70174d58b60c2dbe543c952f",
       "version_major": 2,
       "version_minor": 0
      },
      "text/plain": [
       "  0%|          | 0/45 [00:00<?, ?it/s]"
      ]
     },
     "metadata": {},
     "output_type": "display_data"
    }
   ],
   "source": [
    "def data_preprocess(paths):\n",
    "    features = []\n",
    "    for path in tqdm(paths):\n",
    "        # 讀取image，並轉為灰階影像\n",
    "        image = cv2.imread(path, 0)\n",
    "        # 灰階圖片數值介於0~255之間\n",
    "        image_normalize = image/255\n",
    "        # 最大特徵長度   \n",
    "        max_len = 100000  \n",
    "        # 轉成一維陣列\n",
    "        image_features = image_normalize.flatten()\n",
    "        if len(image_features) < max_len:\n",
    "            pad_features = np.pad(image_features, (0, max_len-len(image_features)), 'constant', constant_values=0)\n",
    "            features.append(pad_features)\n",
    "        else:\n",
    "            features.append(image_features[0: max_len])\n",
    "            \n",
    "    return features\n",
    "\n",
    "#　只保留label0~4的資料\n",
    "def label_select(images, train_labels):\n",
    "    max_labels = 4\n",
    "    data = []\n",
    "    labels = []\n",
    "    \n",
    "    for i in range(len(images)):\n",
    "        if int(train_labels[i]) <= max_labels:\n",
    "            data.append(images[i])\n",
    "            labels.append(train_labels[i])\n",
    "        \n",
    "    return data, labels\n",
    "\n",
    "train_select_data, train_select_labels = label_select(train, train_labels)\n",
    "train_features = data_preprocess(train_select_data)\n",
    "val_select_data, val_select_labels = label_select(val, val_labels)\n",
    "val_features = data_preprocess(val_select_data)\n",
    "test_select_data, test_select_labels = label_select(test, test_labels)\n",
    "test_features = data_preprocess(test_select_data)\n"
   ]
  },
  {
   "attachments": {},
   "cell_type": "markdown",
   "metadata": {},
   "source": [
    "### 訓練模型、驗證模型與預測模型"
   ]
  },
  {
   "attachments": {},
   "cell_type": "markdown",
   "metadata": {},
   "source": [
    "### [Perceptron](https://scikit-learn.org/stable/modules/generated/sklearn.linear_model.Perceptron.html#sklearn.linear_model.Perceptron)"
   ]
  },
  {
   "cell_type": "code",
   "execution_count": 6,
   "metadata": {},
   "outputs": [
    {
     "name": "stdout",
     "output_type": "stream",
     "text": [
      "CPU times: total: 4min 36s\n",
      "Wall time: 4min 36s\n"
     ]
    },
    {
     "data": {
      "text/html": [
       "<style>#sk-container-id-1 {color: black;background-color: white;}#sk-container-id-1 pre{padding: 0;}#sk-container-id-1 div.sk-toggleable {background-color: white;}#sk-container-id-1 label.sk-toggleable__label {cursor: pointer;display: block;width: 100%;margin-bottom: 0;padding: 0.3em;box-sizing: border-box;text-align: center;}#sk-container-id-1 label.sk-toggleable__label-arrow:before {content: \"▸\";float: left;margin-right: 0.25em;color: #696969;}#sk-container-id-1 label.sk-toggleable__label-arrow:hover:before {color: black;}#sk-container-id-1 div.sk-estimator:hover label.sk-toggleable__label-arrow:before {color: black;}#sk-container-id-1 div.sk-toggleable__content {max-height: 0;max-width: 0;overflow: hidden;text-align: left;background-color: #f0f8ff;}#sk-container-id-1 div.sk-toggleable__content pre {margin: 0.2em;color: black;border-radius: 0.25em;background-color: #f0f8ff;}#sk-container-id-1 input.sk-toggleable__control:checked~div.sk-toggleable__content {max-height: 200px;max-width: 100%;overflow: auto;}#sk-container-id-1 input.sk-toggleable__control:checked~label.sk-toggleable__label-arrow:before {content: \"▾\";}#sk-container-id-1 div.sk-estimator input.sk-toggleable__control:checked~label.sk-toggleable__label {background-color: #d4ebff;}#sk-container-id-1 div.sk-label input.sk-toggleable__control:checked~label.sk-toggleable__label {background-color: #d4ebff;}#sk-container-id-1 input.sk-hidden--visually {border: 0;clip: rect(1px 1px 1px 1px);clip: rect(1px, 1px, 1px, 1px);height: 1px;margin: -1px;overflow: hidden;padding: 0;position: absolute;width: 1px;}#sk-container-id-1 div.sk-estimator {font-family: monospace;background-color: #f0f8ff;border: 1px dotted black;border-radius: 0.25em;box-sizing: border-box;margin-bottom: 0.5em;}#sk-container-id-1 div.sk-estimator:hover {background-color: #d4ebff;}#sk-container-id-1 div.sk-parallel-item::after {content: \"\";width: 100%;border-bottom: 1px solid gray;flex-grow: 1;}#sk-container-id-1 div.sk-label:hover label.sk-toggleable__label {background-color: #d4ebff;}#sk-container-id-1 div.sk-serial::before {content: \"\";position: absolute;border-left: 1px solid gray;box-sizing: border-box;top: 0;bottom: 0;left: 50%;z-index: 0;}#sk-container-id-1 div.sk-serial {display: flex;flex-direction: column;align-items: center;background-color: white;padding-right: 0.2em;padding-left: 0.2em;position: relative;}#sk-container-id-1 div.sk-item {position: relative;z-index: 1;}#sk-container-id-1 div.sk-parallel {display: flex;align-items: stretch;justify-content: center;background-color: white;position: relative;}#sk-container-id-1 div.sk-item::before, #sk-container-id-1 div.sk-parallel-item::before {content: \"\";position: absolute;border-left: 1px solid gray;box-sizing: border-box;top: 0;bottom: 0;left: 50%;z-index: -1;}#sk-container-id-1 div.sk-parallel-item {display: flex;flex-direction: column;z-index: 1;position: relative;background-color: white;}#sk-container-id-1 div.sk-parallel-item:first-child::after {align-self: flex-end;width: 50%;}#sk-container-id-1 div.sk-parallel-item:last-child::after {align-self: flex-start;width: 50%;}#sk-container-id-1 div.sk-parallel-item:only-child::after {width: 0;}#sk-container-id-1 div.sk-dashed-wrapped {border: 1px dashed gray;margin: 0 0.4em 0.5em 0.4em;box-sizing: border-box;padding-bottom: 0.4em;background-color: white;}#sk-container-id-1 div.sk-label label {font-family: monospace;font-weight: bold;display: inline-block;line-height: 1.2em;}#sk-container-id-1 div.sk-label-container {text-align: center;}#sk-container-id-1 div.sk-container {/* jupyter's `normalize.less` sets `[hidden] { display: none; }` but bootstrap.min.css set `[hidden] { display: none !important; }` so we also need the `!important` here to be able to override the default hidden behavior on the sphinx rendered scikit-learn.org. See: https://github.com/scikit-learn/scikit-learn/issues/21755 */display: inline-block !important;position: relative;}#sk-container-id-1 div.sk-text-repr-fallback {display: none;}</style><div id=\"sk-container-id-1\" class=\"sk-top-container\"><div class=\"sk-text-repr-fallback\"><pre>Perceptron()</pre><b>In a Jupyter environment, please rerun this cell to show the HTML representation or trust the notebook. <br />On GitHub, the HTML representation is unable to render, please try loading this page with nbviewer.org.</b></div><div class=\"sk-container\" hidden><div class=\"sk-item\"><div class=\"sk-estimator sk-toggleable\"><input class=\"sk-toggleable__control sk-hidden--visually\" id=\"sk-estimator-id-1\" type=\"checkbox\" checked><label for=\"sk-estimator-id-1\" class=\"sk-toggleable__label sk-toggleable__label-arrow\">Perceptron</label><div class=\"sk-toggleable__content\"><pre>Perceptron()</pre></div></div></div></div></div>"
      ],
      "text/plain": [
       "Perceptron()"
      ]
     },
     "execution_count": 6,
     "metadata": {},
     "output_type": "execute_result"
    }
   ],
   "source": [
    "%%time\n",
    "# split the data \n",
    "# x_train, x_test, y_train, y_test = train_test_split(train_features[0:5000], train_labels[0:5000], test_size=0.2, random_state=0)\n",
    "\n",
    "# train Perceptron classifier\n",
    "clf = Perceptron()\n",
    "clf.fit(train_features, train_select_labels)"
   ]
  },
  {
   "cell_type": "code",
   "execution_count": 7,
   "metadata": {},
   "outputs": [
    {
     "name": "stdout",
     "output_type": "stream",
     "text": [
      "Perceptron Classifier\n",
      "validation_data_accuracy:0.37777777777777777\n",
      "test_data_accuracy:0.2222222222222222\n",
      "CPU times: total: 234 ms\n",
      "Wall time: 95.8 ms\n"
     ]
    }
   ],
   "source": [
    "%%time\n",
    "print('Perceptron Classifier')\n",
    "# valid Perceptron classifier\n",
    "y_val = clf.predict(val_features)\n",
    "val_accuracy = accuracy_score(val_select_labels, y_val)\n",
    "print(f'validation_data_accuracy:{val_accuracy}')\n",
    "\n",
    "# test Perceptron classifier\n",
    "y_test = clf.predict(test_features)\n",
    "test_accuracy = accuracy_score(test_select_labels, y_test)\n",
    "print(f'test_data_accuracy:{test_accuracy}')"
   ]
  },
  {
   "attachments": {},
   "cell_type": "markdown",
   "metadata": {},
   "source": [
    "### [SVM](https://scikit-learn.org/stable/modules/svm.html)"
   ]
  },
  {
   "cell_type": "code",
   "execution_count": 8,
   "metadata": {},
   "outputs": [],
   "source": [
    "%%time\n",
    "# train SVM classifier\n",
    "svm = SVC(kernel='linear', random_state=0)\n",
    "svm.fit(train_features, train_select_labels)"
   ]
  },
  {
   "cell_type": "code",
   "execution_count": null,
   "metadata": {},
   "outputs": [],
   "source": [
    "%%time\n",
    "print('SVM Classifier')\n",
    "# valid SVM classifier\n",
    "y_val = svm.predict(val_features)\n",
    "val_accuracy = accuracy_score(val_select_labels, y_val)\n",
    "print(f'validation_data_accuracy:{val_accuracy}')\n",
    "\n",
    "# test SVM classifier\n",
    "y_test = svm.predict(test_features)\n",
    "test_accuracy = accuracy_score(test_select_labels, y_test)\n",
    "print(f'test_data_accuracy:{test_accuracy}')"
   ]
  },
  {
   "attachments": {},
   "cell_type": "markdown",
   "metadata": {},
   "source": [
    "### [AdaBoost](https://scikit-learn.org/stable/modules/generated/sklearn.ensemble.AdaBoostClassifier.html)"
   ]
  },
  {
   "cell_type": "code",
   "execution_count": null,
   "metadata": {},
   "outputs": [],
   "source": [
    "%%time\n",
    "# train AdaBoost classifier\n",
    "Ada = AdaBoostClassifier(n_estimators=100, random_state=0)\n",
    "Ada = Ada.fit(train_features, train_select_labels)"
   ]
  },
  {
   "cell_type": "code",
   "execution_count": null,
   "metadata": {},
   "outputs": [],
   "source": [
    "%%time\n",
    "print('Adaoost Classifier')\n",
    "# valid Adaoost classifier\n",
    "y_val = Ada.predict(val_features)\n",
    "val_accuracy = accuracy_score(val_select_labels, y_val)\n",
    "print(f'validation_data_accuracy:{val_accuracy}')\n",
    "\n",
    "# test Adaoost classifier\n",
    "y_test = Ada.predict(test_features)\n",
    "test_accuracy = accuracy_score(test_select_labels, y_test)\n",
    "print(f'test_data_accuracy:{test_accuracy}')"
   ]
  },
  {
   "cell_type": "code",
   "execution_count": null,
   "metadata": {},
   "outputs": [],
   "source": []
  }
 ],
 "metadata": {
  "kernelspec": {
   "display_name": "Python 3",
   "language": "python",
   "name": "python3"
  },
  "language_info": {
   "codemirror_mode": {
    "name": "ipython",
    "version": 3
   },
   "file_extension": ".py",
   "mimetype": "text/x-python",
   "name": "python",
   "nbconvert_exporter": "python",
   "pygments_lexer": "ipython3",
   "version": "3.11.2"
  },
  "orig_nbformat": 4
 },
 "nbformat": 4,
 "nbformat_minor": 2
}
