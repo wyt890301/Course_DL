{
 "cells": [
  {
   "cell_type": "code",
   "execution_count": 1,
   "id": "e2ac505d-8c4a-4bf4-848d-ceffbcbe8846",
   "metadata": {},
   "outputs": [
    {
     "data": {
      "text/plain": [
       "'2.6.2'"
      ]
     },
     "execution_count": 1,
     "metadata": {},
     "output_type": "execute_result"
    }
   ],
   "source": [
    "import os, sys\n",
    "import numpy as np\n",
    "import time\n",
    "import math\n",
    "import seaborn as sns\n",
    "import matplotlib.pyplot as plt\n",
    "from tqdm.notebook import tqdm\n",
    "import cv2\n",
    "from sklearn.metrics import accuracy_score\n",
    "import tensorflow as tf\n",
    "from model_profiler import model_profiler\n",
    "import keras.backend as K\n",
    "tf.__version__"
   ]
  },
  {
   "cell_type": "code",
   "execution_count": 2,
   "id": "29d36389-6d7c-44fa-8b35-504c0292cc60",
   "metadata": {},
   "outputs": [
    {
     "data": {
      "text/plain": [
       "[PhysicalDevice(name='/physical_device:GPU:0', device_type='GPU'),\n",
       " PhysicalDevice(name='/physical_device:GPU:1', device_type='GPU')]"
      ]
     },
     "execution_count": 2,
     "metadata": {},
     "output_type": "execute_result"
    }
   ],
   "source": [
    "# check GPU\n",
    "gpus = tf.config.list_physical_devices('GPU')\n",
    "gpus"
   ]
  },
  {
   "cell_type": "code",
   "execution_count": 3,
   "id": "2ed23fad-660d-4d12-9725-db727eea490c",
   "metadata": {},
   "outputs": [],
   "source": [
    "# choose GPU\n",
    "# os.environ[\"CUDA_VISIBLE_DEVICES\"] = \"1\"\n",
    "tf.config.experimental.set_visible_devices(gpus[1], 'GPU')\n",
    "tf.config.experimental.set_memory_growth(gpus[1], True)"
   ]
  },
  {
   "cell_type": "code",
   "execution_count": 4,
   "id": "3d799c2c-ad0c-46c8-8497-580aafe916f8",
   "metadata": {},
   "outputs": [],
   "source": [
    "RANDOM_STATE = 111\n",
    "BATCH_SIZE = 256\n",
    "EPOCHS = 30\n",
    "LR = 1e-4"
   ]
  },
  {
   "cell_type": "code",
   "execution_count": 5,
   "id": "ca0d273f-a5c5-4ec0-97b6-4c43d930f5e6",
   "metadata": {},
   "outputs": [
    {
     "name": "stdout",
     "output_type": "stream",
     "text": [
      "訓練資料共63325筆\n",
      "驗證資料共450筆\n",
      "測試資料共450筆\n"
     ]
    }
   ],
   "source": [
    "dir_path = '../data/'\n",
    "\n",
    "train, train_labels = [], []\n",
    "with open(dir_path + 'train.txt', 'r') as f:\n",
    "  for line in f:\n",
    "    data = line.split(\" \")\n",
    "    train.append(dir_path + data[0])\n",
    "    train_labels.append(data[1].replace('\\n', ''))\n",
    "\n",
    "\n",
    "val, val_labels = [], []\n",
    "with open(dir_path + 'val.txt', 'r') as f:\n",
    "  for line in f:\n",
    "    data = line.split(\" \")\n",
    "    val.append(dir_path + data[0])\n",
    "    val_labels.append(data[1].replace('\\n', ''))\n",
    "\n",
    "\n",
    "test, test_labels = [], []\n",
    "with open(dir_path + 'test.txt', 'r') as f:\n",
    "  for line in f:\n",
    "    data = line.split(\" \")\n",
    "    test.append(dir_path + data[0])\n",
    "    test_labels.append(data[1].replace('\\n', ''))\n",
    "\n",
    "print(f'訓練資料共{len(train)}筆')\n",
    "print(f'驗證資料共{len(val)}筆')\n",
    "print(f'測試資料共{len(test)}筆')"
   ]
  },
  {
   "cell_type": "markdown",
   "id": "5a541efc-9d00-4379-b6d8-d8ebdfa4515c",
   "metadata": {},
   "source": [
    "### 資料前處理"
   ]
  },
  {
   "cell_type": "code",
   "execution_count": 6,
   "id": "6ca6ae47-54d8-49d2-abc0-155a15370568",
   "metadata": {},
   "outputs": [],
   "source": [
    "def data_preprocess(paths):\n",
    "    features = []\n",
    "    for path in tqdm(paths):\n",
    "        # 讀取image，並轉為灰階影像\n",
    "        img = cv2.imread(path, 0)\n",
    "        img = cv2.resize(img, (32, 32))\n",
    "        img = img.reshape(32, 32, 1).astype('float32')\n",
    "        # 標準化(MaxAbs)，灰階影像最大為255\n",
    "        img = img / 255\n",
    "        features.append(img)\n",
    "        \n",
    "    return features"
   ]
  },
  {
   "cell_type": "code",
   "execution_count": 7,
   "id": "1a881e2f-b6da-451f-9525-3f7724ef6c0e",
   "metadata": {},
   "outputs": [
    {
     "data": {
      "application/vnd.jupyter.widget-view+json": {
       "model_id": "6257611d5e924acc96128239cc26979d",
       "version_major": 2,
       "version_minor": 0
      },
      "text/plain": [
       "  0%|          | 0/63325 [00:00<?, ?it/s]"
      ]
     },
     "metadata": {},
     "output_type": "display_data"
    },
    {
     "data": {
      "application/vnd.jupyter.widget-view+json": {
       "model_id": "3d74ab6cc9aa4c1da270d021639ed884",
       "version_major": 2,
       "version_minor": 0
      },
      "text/plain": [
       "  0%|          | 0/450 [00:00<?, ?it/s]"
      ]
     },
     "metadata": {},
     "output_type": "display_data"
    },
    {
     "data": {
      "application/vnd.jupyter.widget-view+json": {
       "model_id": "f6c7dfa551cf4e69ad34bdbd3cb1a4af",
       "version_major": 2,
       "version_minor": 0
      },
      "text/plain": [
       "  0%|          | 0/450 [00:00<?, ?it/s]"
      ]
     },
     "metadata": {},
     "output_type": "display_data"
    },
    {
     "name": "stdout",
     "output_type": "stream",
     "text": [
      "CPU times: user 33.1 s, sys: 1.43 s, total: 34.6 s\n",
      "Wall time: 34.4 s\n"
     ]
    }
   ],
   "source": [
    "%%time\n",
    "train_features = data_preprocess(train)\n",
    "val_features = data_preprocess(val)\n",
    "test_features = data_preprocess(test)"
   ]
  },
  {
   "cell_type": "markdown",
   "id": "3c4bdf81-8244-4aeb-80c9-aa306e367da9",
   "metadata": {},
   "source": [
    "### OneHotEncoding"
   ]
  },
  {
   "cell_type": "code",
   "execution_count": 8,
   "id": "117081c8-8501-4d3c-b064-2e13a778c47f",
   "metadata": {},
   "outputs": [],
   "source": [
    "# 轉成np.array再轉成oneHotEncoding\n",
    "def OneHotEncoding(labels):\n",
    "    y = np.eye(50)[np.array(list(map(int, labels)))]\n",
    "    # y = y.reshape(len(labels), 50, 1)\n",
    "    return y"
   ]
  },
  {
   "cell_type": "markdown",
   "id": "b3a34aae-8708-404e-a8de-1c1ab0f89e4b",
   "metadata": {},
   "source": [
    "### shuffle tool"
   ]
  },
  {
   "cell_type": "code",
   "execution_count": 9,
   "id": "ecf7eb71-89f0-4dfa-a35f-c00c509813b7",
   "metadata": {},
   "outputs": [],
   "source": [
    "def shuffle(x, y):\n",
    "    index = np.arange(x.shape[0])\n",
    "    np.random.shuffle(index)\n",
    "    return x[index], y[index]"
   ]
  },
  {
   "cell_type": "code",
   "execution_count": 10,
   "id": "086b222c-f3b5-457e-aa7a-d671d63135af",
   "metadata": {},
   "outputs": [],
   "source": [
    "X_train, Y_train = shuffle(np.array(train_features), OneHotEncoding(train_labels))\n",
    "X_val, Y_val = shuffle(np.array(val_features), OneHotEncoding(val_labels))\n",
    "X_test, Y_test = shuffle(np.array(test_features), OneHotEncoding(test_labels))"
   ]
  },
  {
   "cell_type": "markdown",
   "id": "f53c531c-d773-4ace-ab45-6b8a1df8b0ca",
   "metadata": {},
   "source": [
    "### 評估指標"
   ]
  },
  {
   "cell_type": "code",
   "execution_count": 11,
   "id": "fe6c4436-1a7f-41d2-b325-4c3e72a9f3c1",
   "metadata": {},
   "outputs": [],
   "source": [
    "def top1_acc(labels, pro):\n",
    "    correct = []\n",
    "    for i, p in enumerate(pro):\n",
    "        pred_y = np.argsort(p)[-1]\n",
    "        if int(labels[i]) == pred_y:\n",
    "            correct.append(1)\n",
    "        else:\n",
    "            correct.append(0)\n",
    "    \n",
    "    return round(sum(correct) / len(correct), 4)\n",
    "\n",
    "def top5_acc(labels, pro):\n",
    "    correct = []\n",
    "    for i, p in enumerate(pro):\n",
    "        top5_y = np.argsort(p)[-5:]\n",
    "        if int(labels[i]) in list(top5_y):\n",
    "            correct.append(1)\n",
    "        else:\n",
    "            correct.append(0)\n",
    "    \n",
    "    return round(sum(correct) / len(correct), 4)"
   ]
  },
  {
   "cell_type": "markdown",
   "id": "7cf35ef7-504a-4761-9a88-c61fc6349cdb",
   "metadata": {},
   "source": [
    "### LeNet-5 by tensorflow\n",
    "- https://www.tensorflow.org/api_docs/python/tf/keras/Model\n",
    "- ChatGPT\n",
    "\n",
    "### static graph LeNet5 vs dynamic graph LeNet5\n",
    "- static graph LeNet5: computational graph is defined and compiled before runtime\n",
    "- dynamic graph LeNet5: computational graph is defined and executed dynamically during runtime"
   ]
  },
  {
   "cell_type": "code",
   "execution_count": 32,
   "id": "b8b77572-24dd-4998-b21a-45807a2fceee",
   "metadata": {},
   "outputs": [
    {
     "name": "stdout",
     "output_type": "stream",
     "text": [
      "Model: \"lenet5\"\n",
      "_________________________________________________________________\n",
      "Layer (type)                 Output Shape              Param #   \n",
      "=================================================================\n",
      "conv2d_4 (Conv2D)            multiple                  156       \n",
      "_________________________________________________________________\n",
      "max_pooling2d_4 (MaxPooling2 multiple                  0         \n",
      "_________________________________________________________________\n",
      "conv2d_5 (Conv2D)            multiple                  2416      \n",
      "_________________________________________________________________\n",
      "max_pooling2d_5 (MaxPooling2 multiple                  0         \n",
      "_________________________________________________________________\n",
      "flatten_2 (Flatten)          multiple                  0         \n",
      "_________________________________________________________________\n",
      "dense_6 (Dense)              multiple                  48120     \n",
      "_________________________________________________________________\n",
      "dense_7 (Dense)              multiple                  10164     \n",
      "_________________________________________________________________\n",
      "dense_8 (Dense)              multiple                  4250      \n",
      "=================================================================\n",
      "Total params: 65,106\n",
      "Trainable params: 65,106\n",
      "Non-trainable params: 0\n",
      "_________________________________________________________________\n"
     ]
    }
   ],
   "source": [
    "# Create LeNet5\n",
    "class lenet5(tf.keras.Model):\n",
    "    def __init__(self, num_labels):\n",
    "        super(lenet5, self).__init__(name='lenet5', dynamic=False)  # control static/dynamic graph\n",
    "        self.c1 = tf.keras.layers.Conv2D(6, kernel_size=(5, 5), activation='relu')\n",
    "        self.p1 = tf.keras.layers.MaxPooling2D(pool_size=(2, 2))\n",
    "        self.c2 = tf.keras.layers.Conv2D(16, kernel_size=(5, 5), activation='relu')\n",
    "        self.p2 = tf.keras.layers.MaxPooling2D(pool_size=(2, 2))\n",
    "        self.fl = tf.keras.layers.Flatten()\n",
    "        self.fc1 = tf.keras.layers.Dense(120, activation='relu')\n",
    "        self.fc2 = tf.keras.layers.Dense(84, activation='relu')\n",
    "        self.fc3 = tf.keras.layers.Dense(num_labels, activation='softmax')\n",
    "\n",
    "    def call(self, x):\n",
    "        x = self.c1(x)\n",
    "        x = self.p1(x)\n",
    "        x = self.c2(x)\n",
    "        x = self.p2(x)\n",
    "        x = self.fl(x)\n",
    "        x = self.fc1(x)\n",
    "        x = self.fc2(x)\n",
    "        x = self.fc3(x)\n",
    "        return x\n",
    "\n",
    "# Create an instance of the LeNet-5 model\n",
    "model = lenet5(50)\n",
    "\n",
    "model.compile(loss=tf.keras.losses.CategoricalCrossentropy(), \n",
    "              optimizer=tf.keras.optimizers.Adam(learning_rate=LR), \n",
    "              metrics=['accuracy'])\n",
    "\n",
    "model.build((None, 32, 32, 1))\n",
    "model.summary()\n",
    "\n",
    "# lenet5\n",
    "# model = tf.keras.Sequential()\n",
    "# model.add(tf.keras.layers.Conv2D(6, kernel_size=(5, 5), activation='relu', input_shape=(32, 32, 1)))\n",
    "# model.add(tf.keras.layers.MaxPooling2D(pool_size=(2, 2)))\n",
    "# model.add(tf.keras.layers.Conv2D(16, kernel_size=(5, 5), activation='relu'))\n",
    "# model.add(tf.keras.layers.MaxPooling2D(pool_size=(2, 2)))\n",
    "# model.add(tf.keras.layers.Flatten())\n",
    "# model.add(tf.keras.layers.Dense(120, activation='relu'))\n",
    "# model.add(tf.keras.layers.Dense(84, activation='relu'))\n",
    "# model.add(tf.keras.layers.Dense(50, activation='softmax'))\n",
    "\n",
    "# model.compile(loss=tf.keras.losses.CategoricalCrossentropy(), \n",
    "#               optimizer=tf.keras.optimizers.Adam(learning_rate=LR), \n",
    "#               metrics=['accuracy'])\n",
    "\n",
    "# model.summary()"
   ]
  },
  {
   "cell_type": "markdown",
   "id": "dc4ec6d2-c8c5-4b44-9619-845494d759ba",
   "metadata": {},
   "source": [
    "### Train"
   ]
  },
  {
   "cell_type": "code",
   "execution_count": 13,
   "id": "f7524b9e-e968-41dc-bffc-921561fd5721",
   "metadata": {
    "tags": []
   },
   "outputs": [
    {
     "name": "stdout",
     "output_type": "stream",
     "text": [
      "Epoch 1/30\n",
      "248/248 [==============================] - 6s 12ms/step - loss: 3.8876 - accuracy: 0.0337 - val_loss: 3.8279 - val_accuracy: 0.0444\n",
      "Epoch 2/30\n",
      "248/248 [==============================] - 3s 10ms/step - loss: 3.7628 - accuracy: 0.0518 - val_loss: 3.7066 - val_accuracy: 0.0533\n",
      "Epoch 3/30\n",
      "248/248 [==============================] - 3s 10ms/step - loss: 3.6780 - accuracy: 0.0660 - val_loss: 3.6485 - val_accuracy: 0.0711\n",
      "Epoch 4/30\n",
      "248/248 [==============================] - 3s 10ms/step - loss: 3.6283 - accuracy: 0.0775 - val_loss: 3.6066 - val_accuracy: 0.0622\n",
      "Epoch 5/30\n",
      "248/248 [==============================] - 3s 11ms/step - loss: 3.5824 - accuracy: 0.0854 - val_loss: 3.5614 - val_accuracy: 0.0822\n",
      "Epoch 6/30\n",
      "248/248 [==============================] - 3s 10ms/step - loss: 3.5365 - accuracy: 0.0936 - val_loss: 3.5252 - val_accuracy: 0.0822\n",
      "Epoch 7/30\n",
      "248/248 [==============================] - 3s 10ms/step - loss: 3.4979 - accuracy: 0.0996 - val_loss: 3.4868 - val_accuracy: 0.0933\n",
      "Epoch 8/30\n",
      "248/248 [==============================] - 3s 10ms/step - loss: 3.4684 - accuracy: 0.1036 - val_loss: 3.4648 - val_accuracy: 0.1000\n",
      "Epoch 9/30\n",
      "248/248 [==============================] - 3s 10ms/step - loss: 3.4469 - accuracy: 0.1073 - val_loss: 3.4422 - val_accuracy: 0.1111\n",
      "Epoch 10/30\n",
      "248/248 [==============================] - 3s 10ms/step - loss: 3.4288 - accuracy: 0.1113 - val_loss: 3.4360 - val_accuracy: 0.1000\n",
      "Epoch 11/30\n",
      "248/248 [==============================] - 3s 11ms/step - loss: 3.4164 - accuracy: 0.1132 - val_loss: 3.4252 - val_accuracy: 0.1044\n",
      "Epoch 12/30\n",
      "248/248 [==============================] - 2s 10ms/step - loss: 3.4070 - accuracy: 0.1166 - val_loss: 3.4146 - val_accuracy: 0.1133\n",
      "Epoch 13/30\n",
      "248/248 [==============================] - 3s 10ms/step - loss: 3.3973 - accuracy: 0.1169 - val_loss: 3.4059 - val_accuracy: 0.1022\n",
      "Epoch 14/30\n",
      "248/248 [==============================] - 3s 11ms/step - loss: 3.3863 - accuracy: 0.1207 - val_loss: 3.4003 - val_accuracy: 0.1044\n",
      "Epoch 15/30\n",
      "248/248 [==============================] - 3s 10ms/step - loss: 3.3795 - accuracy: 0.1211 - val_loss: 3.3876 - val_accuracy: 0.1200\n",
      "Epoch 16/30\n",
      "248/248 [==============================] - 3s 10ms/step - loss: 3.3707 - accuracy: 0.1235 - val_loss: 3.3823 - val_accuracy: 0.1156\n",
      "Epoch 17/30\n",
      "248/248 [==============================] - 3s 10ms/step - loss: 3.3642 - accuracy: 0.1251 - val_loss: 3.3797 - val_accuracy: 0.1333\n",
      "Epoch 18/30\n",
      "248/248 [==============================] - 3s 10ms/step - loss: 3.3553 - accuracy: 0.1263 - val_loss: 3.3750 - val_accuracy: 0.1222\n",
      "Epoch 19/30\n",
      "248/248 [==============================] - 3s 10ms/step - loss: 3.3500 - accuracy: 0.1283 - val_loss: 3.3692 - val_accuracy: 0.1244\n",
      "Epoch 20/30\n",
      "248/248 [==============================] - 3s 10ms/step - loss: 3.3425 - accuracy: 0.1292 - val_loss: 3.3598 - val_accuracy: 0.1200\n",
      "Epoch 21/30\n",
      "248/248 [==============================] - 3s 10ms/step - loss: 3.3359 - accuracy: 0.1313 - val_loss: 3.3500 - val_accuracy: 0.1289\n",
      "Epoch 22/30\n",
      "248/248 [==============================] - 3s 10ms/step - loss: 3.3302 - accuracy: 0.1327 - val_loss: 3.3614 - val_accuracy: 0.1244\n",
      "Epoch 23/30\n",
      "248/248 [==============================] - 3s 11ms/step - loss: 3.3235 - accuracy: 0.1341 - val_loss: 3.3500 - val_accuracy: 0.1444\n",
      "Epoch 24/30\n",
      "248/248 [==============================] - 3s 10ms/step - loss: 3.3172 - accuracy: 0.1354 - val_loss: 3.3409 - val_accuracy: 0.1200\n",
      "Epoch 25/30\n",
      "248/248 [==============================] - 3s 11ms/step - loss: 3.3124 - accuracy: 0.1351 - val_loss: 3.3437 - val_accuracy: 0.1156\n",
      "Epoch 26/30\n",
      "248/248 [==============================] - 3s 11ms/step - loss: 3.3058 - accuracy: 0.1379 - val_loss: 3.3375 - val_accuracy: 0.1422\n",
      "Epoch 27/30\n",
      "248/248 [==============================] - 3s 10ms/step - loss: 3.3008 - accuracy: 0.1381 - val_loss: 3.3268 - val_accuracy: 0.1311\n",
      "Epoch 28/30\n",
      "248/248 [==============================] - 3s 10ms/step - loss: 3.2964 - accuracy: 0.1386 - val_loss: 3.3253 - val_accuracy: 0.1289\n",
      "Epoch 29/30\n",
      "248/248 [==============================] - 3s 11ms/step - loss: 3.2909 - accuracy: 0.1404 - val_loss: 3.3278 - val_accuracy: 0.1267\n",
      "Epoch 30/30\n",
      "248/248 [==============================] - 3s 10ms/step - loss: 3.2855 - accuracy: 0.1418 - val_loss: 3.3247 - val_accuracy: 0.1378\n",
      "CPU times: user 46.3 s, sys: 5.81 s, total: 52.1 s\n",
      "Wall time: 1min 21s\n"
     ]
    }
   ],
   "source": [
    "%%time\n",
    "# validation the model\n",
    "train_history = model.fit(X_train, Y_train, batch_size=BATCH_SIZE, epochs=EPOCHS, validation_data=(X_val, Y_val))"
   ]
  },
  {
   "cell_type": "markdown",
   "id": "1a3bb6a2-55f9-46ef-9700-c4a799b56045",
   "metadata": {},
   "source": [
    "### Test"
   ]
  },
  {
   "cell_type": "code",
   "execution_count": 14,
   "id": "cb662c88-b1f9-4acc-b9c4-19b48eead8dd",
   "metadata": {},
   "outputs": [
    {
     "name": "stdout",
     "output_type": "stream",
     "text": [
      "15/15 [==============================] - 0s 10ms/step - loss: 3.2527 - accuracy: 0.1689\n",
      "Test loss: 3.2527\n",
      "Test accuracy: 0.1689\n",
      "Inference time: 0.31278133s\n"
     ]
    }
   ],
   "source": [
    "# test the model\n",
    "start_time = time.time()\n",
    "loss, accuracy = model.evaluate(X_test, Y_test)\n",
    "inference_time = time.time() - start_time\n",
    "\n",
    "print(f\"Test loss: {loss:.4f}\")\n",
    "print(f\"Test accuracy: {accuracy:.4f}\")\n",
    "print(f'Inference time: {inference_time:.8f}s')"
   ]
  },
  {
   "cell_type": "code",
   "execution_count": 15,
   "id": "3ce9fac7-9d8f-488e-a921-9ec0309d771c",
   "metadata": {},
   "outputs": [
    {
     "name": "stdout",
     "output_type": "stream",
     "text": [
      "INFO:tensorflow:Assets written to: /git/Yutai/DL_HW3/assets\n"
     ]
    }
   ],
   "source": [
    "# save model \n",
    "tf.keras.models.save_model(model, '/git/Yutai/DL_HW3', include_optimizer=True)"
   ]
  },
  {
   "cell_type": "code",
   "execution_count": 16,
   "id": "66647a9d-8534-43cd-83b4-0a38b1ae0752",
   "metadata": {
    "tags": []
   },
   "outputs": [],
   "source": [
    "class plot():\n",
    "    def __init__(self, result):\n",
    "        self.result = result\n",
    "        self.plot_acc()\n",
    "        self.plot_loss()\n",
    "        \n",
    "    def plot_acc(self):\n",
    "        plt.plot(self.result['accuracy'])\n",
    "        plt.plot(self.result['val_accuracy'])\n",
    "        plt.title('Accuracy History')\n",
    "        plt.ylabel('Accuracy')\n",
    "        plt.xlabel('Epoch')\n",
    "        plt.legend(['train', 'val'], loc='upper left')\n",
    "        plt.show()\n",
    "\n",
    "    def plot_loss(self):\n",
    "        plt.plot(self.result['loss'])\n",
    "        plt.plot(self.result['val_loss'])\n",
    "        plt.title('Loss History')\n",
    "        plt.ylabel('Loss')\n",
    "        plt.xlabel('Epoch')\n",
    "        plt.legend(['train', 'val'], loc='upper left')\n",
    "        plt.show()"
   ]
  },
  {
   "cell_type": "code",
   "execution_count": 17,
   "id": "320c2664-9094-4fa4-a1b9-b68c74ac1c3a",
   "metadata": {},
   "outputs": [
    {
     "data": {
      "image/png": "[encoded data removed]",
      "text/plain": [
       "<Figure size 432x288 with 1 Axes>"
      ]
     },
     "metadata": {
      "needs_background": "light"
     },
     "output_type": "display_data"
    },
    {
     "data": {
      "image/png": "[encoded data removed]",
      "text/plain": [
       "<Figure size 432x288 with 1 Axes>"
      ]
     },
     "metadata": {
      "needs_background": "light"
     },
     "output_type": "display_data"
    },
    {
     "data": {
      "text/plain": [
       "<__main__.plot at 0x7f35ec0b3ef0>"
      ]
     },
     "execution_count": 17,
     "metadata": {},
     "output_type": "execute_result"
    }
   ],
   "source": [
    "plot(train_history.history)"
   ]
  },
  {
   "cell_type": "markdown",
   "id": "a2b46d8a-93bc-43f7-b183-f6a4b3d78bdf",
   "metadata": {},
   "source": [
    "### Flops and Space Complexity\n",
    "- https://pypi.org/project/model-profiler/\n",
    "- https://pypi.org/project/keras-flops/"
   ]
  },
  {
   "cell_type": "code",
   "execution_count": 31,
   "id": "4919b9fd-ef60-49b1-b043-e1f54bc733e5",
   "metadata": {
    "tags": []
   },
   "outputs": [
    {
     "name": "stdout",
     "output_type": "stream",
     "text": [
      "| Model Profile                    | Value         | Unit    |\n",
      "|----------------------------------|---------------|---------|\n",
      "| Selected GPUs                    | None Detected | GPU IDs |\n",
      "| No. of FLOPs                     | 0.0084        | MFLOPs  |\n",
      "| GPU Memory Requirement           | 2.1456        | MB      |\n",
      "| Model Parameters                 | 0.0651        | Million |\n",
      "| Memory Required by Model Weights | 0.2484        | MB      |\n"
     ]
    }
   ],
   "source": [
    "profile = model_profiler(model, 64, use_units = ['GPU IDs', 'MFLOPs', 'MB', 'Million', 'MB'])\n",
    "print(profile)"
   ]
  },
  {
   "cell_type": "code",
   "execution_count": 25,
   "id": "7d65b892-aa72-4b51-af1f-70fff8f1ad71",
   "metadata": {},
   "outputs": [],
   "source": [
    "def get_flops(model_h5_path):\n",
    "    session = tf.compat.v1.Session()\n",
    "    graph = tf.compat.v1.get_default_graph()\n",
    "\n",
    "\n",
    "    with graph.as_default():\n",
    "        with session.as_default():\n",
    "            model = tf.keras.models.load_model(model_h5_path)\n",
    "\n",
    "            run_meta = tf.compat.v1.RunMetadata()\n",
    "            opts = tf.compat.v1.profiler.ProfileOptionBuilder.float_operation()\n",
    "            flops = tf.compat.v1.profiler.profile(graph=graph,\n",
    "                                                  run_meta=run_meta, cmd='op', options=opts)\n",
    "\n",
    "            return flops.total_float_ops"
   ]
  },
  {
   "cell_type": "code",
   "execution_count": 26,
   "id": "636186ba-d5cf-42b3-a100-bce30f4059cc",
   "metadata": {},
   "outputs": [
    {
     "data": {
      "text/plain": [
       "194511"
      ]
     },
     "execution_count": 26,
     "metadata": {},
     "output_type": "execute_result"
    }
   ],
   "source": [
    "get_flops('/git/Yutai/DL_HW3')"
   ]
  }
 ],
 "metadata": {
  "kernelspec": {
   "display_name": "Python 3",
   "language": "python",
   "name": "python3"
  },
  "language_info": {
   "codemirror_mode": {
    "name": "ipython",
    "version": 3
   },
   "file_extension": ".py",
   "mimetype": "text/x-python",
   "name": "python",
   "nbconvert_exporter": "python",
   "pygments_lexer": "ipython3",
   "version": "3.6.9"
  }
 },
 "nbformat": 4,
 "nbformat_minor": 5
}
