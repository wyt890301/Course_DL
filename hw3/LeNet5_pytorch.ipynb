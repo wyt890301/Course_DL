{
 "cells": [
  {
   "cell_type": "code",
   "execution_count": 1,
   "id": "e2ac505d-8c4a-4bf4-848d-ceffbcbe8846",
   "metadata": {},
   "outputs": [
    {
     "data": {
      "text/plain": [
       "'1.10.1+cu113'"
      ]
     },
     "execution_count": 1,
     "metadata": {},
     "output_type": "execute_result"
    }
   ],
   "source": [
    "import os, sys\n",
    "import numpy as np\n",
    "import time\n",
    "import math\n",
    "import seaborn as sns\n",
    "import matplotlib.pyplot as plt\n",
    "from tqdm.notebook import tqdm\n",
    "import cv2\n",
    "from sklearn.metrics import accuracy_score\n",
    "import torch\n",
    "import torch.nn as nn\n",
    "from torch.nn import CrossEntropyLoss\n",
    "from torch.optim import Adam\n",
    "from torch.utils.data import Dataset, DataLoader\n",
    "from thop import profile\n",
    "from ptflops import get_model_complexity_info\n",
    "torch.__version__"
   ]
  },
  {
   "cell_type": "code",
   "execution_count": 2,
   "id": "3d799c2c-ad0c-46c8-8497-580aafe916f8",
   "metadata": {},
   "outputs": [],
   "source": [
    "RANDOM_STATE = 111\n",
    "BATCH_SIZE = 256\n",
    "EPOCHS = 30\n",
    "LR = 1e-4"
   ]
  },
  {
   "cell_type": "code",
   "execution_count": 3,
   "id": "ca0d273f-a5c5-4ec0-97b6-4c43d930f5e6",
   "metadata": {},
   "outputs": [
    {
     "name": "stdout",
     "output_type": "stream",
     "text": [
      "訓練資料共63325筆\n",
      "驗證資料共450筆\n",
      "測試資料共450筆\n"
     ]
    }
   ],
   "source": [
    "dir_path = '../data/'\n",
    "\n",
    "train, train_label = [], []\n",
    "with open(dir_path + 'train.txt', 'r') as f:\n",
    "  for line in f:\n",
    "    data = line.split(\" \")\n",
    "    train.append(dir_path + data[0])\n",
    "    train_label.append(data[1].replace('\\n', ''))\n",
    "\n",
    "\n",
    "val, val_label = [], []\n",
    "with open(dir_path + 'val.txt', 'r') as f:\n",
    "  for line in f:\n",
    "    data = line.split(\" \")\n",
    "    val.append(dir_path + data[0])\n",
    "    val_label.append(data[1].replace('\\n', ''))\n",
    "\n",
    "\n",
    "test, test_label = [], []\n",
    "with open(dir_path + 'test.txt', 'r') as f:\n",
    "  for line in f:\n",
    "    data = line.split(\" \")\n",
    "    test.append(dir_path + data[0])\n",
    "    test_label.append(data[1].replace('\\n', ''))\n",
    "\n",
    "print(f'訓練資料共{len(train)}筆')\n",
    "print(f'驗證資料共{len(val)}筆')\n",
    "print(f'測試資料共{len(test)}筆')"
   ]
  },
  {
   "cell_type": "markdown",
   "id": "5a541efc-9d00-4379-b6d8-d8ebdfa4515c",
   "metadata": {},
   "source": [
    "### 資料前處理"
   ]
  },
  {
   "cell_type": "code",
   "execution_count": 4,
   "id": "6ca6ae47-54d8-49d2-abc0-155a15370568",
   "metadata": {},
   "outputs": [],
   "source": [
    "def data_preprocess(paths):\n",
    "    features = []\n",
    "    for path in tqdm(paths):\n",
    "        # 讀取image，並轉為灰階影像\n",
    "        img = cv2.imread(path, 0)\n",
    "        img = cv2.resize(img, (32, 32))\n",
    "        img = img.reshape(32, 32, 1).astype('float32')\n",
    "        img = np.transpose(img, (2, 0, 1)).astype('float32')\n",
    "        # 標準化(MaxAbs)，灰階影像最大為255\n",
    "        img = img / 255\n",
    "        features.append(img)\n",
    "        \n",
    "    return features"
   ]
  },
  {
   "cell_type": "code",
   "execution_count": 5,
   "id": "e2c7f17b-54c1-43be-bc3d-4e941b4cff46",
   "metadata": {},
   "outputs": [],
   "source": [
    "# 轉成np.array再轉成oneHotEncoding\n",
    "def OneHotEncoding(labels):\n",
    "    y = np.eye(50)[np.array(list(map(int, labels)))]\n",
    "    return y"
   ]
  },
  {
   "cell_type": "code",
   "execution_count": 6,
   "id": "6ad9dbe1-904f-4ac0-a0ae-edace7c4d6a0",
   "metadata": {},
   "outputs": [],
   "source": [
    "class imageDataset(Dataset):\n",
    "    def __init__(self, data, labels):\n",
    "        self.data = data\n",
    "        self.labels = labels\n",
    "\n",
    "    def __len__(self):\n",
    "        return len(self.data)\n",
    "\n",
    "    def __getitem__(self, index):\n",
    "        x = self.data[index]\n",
    "        y = self.labels[index]\n",
    "        return x, y"
   ]
  },
  {
   "cell_type": "code",
   "execution_count": 7,
   "id": "1a881e2f-b6da-451f-9525-3f7724ef6c0e",
   "metadata": {},
   "outputs": [
    {
     "data": {
      "application/vnd.jupyter.widget-view+json": {
       "model_id": "ad59e7e1eef34ab1af009a3d5eb3caf7",
       "version_major": 2,
       "version_minor": 0
      },
      "text/plain": [
       "  0%|          | 0/63325 [00:00<?, ?it/s]"
      ]
     },
     "metadata": {},
     "output_type": "display_data"
    },
    {
     "data": {
      "application/vnd.jupyter.widget-view+json": {
       "model_id": "911f9ff1d4714924b7098e04c168165b",
       "version_major": 2,
       "version_minor": 0
      },
      "text/plain": [
       "  0%|          | 0/450 [00:00<?, ?it/s]"
      ]
     },
     "metadata": {},
     "output_type": "display_data"
    },
    {
     "data": {
      "application/vnd.jupyter.widget-view+json": {
       "model_id": "1505c27eea444ba39986455f8d637c51",
       "version_major": 2,
       "version_minor": 0
      },
      "text/plain": [
       "  0%|          | 0/450 [00:00<?, ?it/s]"
      ]
     },
     "metadata": {},
     "output_type": "display_data"
    },
    {
     "name": "stdout",
     "output_type": "stream",
     "text": [
      "CPU times: user 33.2 s, sys: 1.37 s, total: 34.5 s\n",
      "Wall time: 34.4 s\n"
     ]
    }
   ],
   "source": [
    "%%time\n",
    "train_data = imageDataset(data_preprocess(train), OneHotEncoding(train_label))\n",
    "val_data = imageDataset(data_preprocess(val), OneHotEncoding(val_label))\n",
    "test_data = imageDataset(data_preprocess(test), OneHotEncoding(test_label))"
   ]
  },
  {
   "cell_type": "markdown",
   "id": "7cf35ef7-504a-4761-9a88-c61fc6349cdb",
   "metadata": {},
   "source": [
    "### LeNet-5 by pytorch\n",
    "- https://github.com/ChawDoe/LeNet5-MNIST-PyTorch\n",
    "- ChatGPT"
   ]
  },
  {
   "cell_type": "code",
   "execution_count": 8,
   "id": "d9d61b98-3b2b-4526-a48c-1a896e53cd31",
   "metadata": {},
   "outputs": [],
   "source": [
    "# Define the LeNet-5 model\n",
    "class LeNet5(nn.Module):\n",
    "    def __init__(self, num_labels):\n",
    "        super(LeNet5, self).__init__()\n",
    "        self.c1 = nn.Conv2d(1, 6, kernel_size=5)\n",
    "        self.r1 = nn.ReLU()\n",
    "        self.p1 = nn.MaxPool2d(kernel_size=2, stride=2)\n",
    "        self.c2 = nn.Conv2d(6, 16, kernel_size=5)\n",
    "        self.r2 = nn.ReLU()\n",
    "        self.p2 = nn.MaxPool2d(kernel_size=2, stride=2)\n",
    "        self.fc1 = nn.Linear(16*5*5, 120)\n",
    "        self.r3 = nn.ReLU()\n",
    "        self.fc2 = nn.Linear(120, 84)\n",
    "        self.r4 = nn.ReLU()\n",
    "        self.fc3 = nn.Linear(84, num_labels)\n",
    "        self.s1 = nn.Softmax(dim=1)\n",
    "\n",
    "    def forward(self, x):\n",
    "        x = self.c1(x)\n",
    "        x = self.r1(x)\n",
    "        x = self.p1(x)\n",
    "        x = self.c2(x)\n",
    "        x = self.r2(x)\n",
    "        x = self.p2(x)\n",
    "        x = x.view(x.size(0), 16*5*5)\n",
    "        x = self.fc1(x)\n",
    "        x = self.r3(x)\n",
    "        x = self.fc2(x)\n",
    "        x = self.r4(x)\n",
    "        x = self.fc3(x)\n",
    "        x = self.s1(x)\n",
    "        return x"
   ]
  },
  {
   "cell_type": "markdown",
   "id": "60ca9fba-e7cb-4760-9453-c09e42ea7683",
   "metadata": {},
   "source": [
    "### Train"
   ]
  },
  {
   "cell_type": "code",
   "execution_count": 9,
   "id": "8ff7ab8d-2f3e-4c13-93c0-3139ac062332",
   "metadata": {},
   "outputs": [],
   "source": [
    "# set the DataLoader\n",
    "train_loader = DataLoader(train_data, batch_size=BATCH_SIZE, shuffle=True)\n",
    "vaild_loader = DataLoader(val_data, batch_size=BATCH_SIZE)\n",
    "test_loader = DataLoader(test_data, batch_size=450)\n",
    "\n",
    "# choose GPU\n",
    "device = 'cuda:0' if torch.cuda.is_available() else 'cpu'\n",
    "\n",
    "# Define the LeNet-5 model, loss function and optimizer\n",
    "model = LeNet5(50).to(device)\n",
    "criterion = CrossEntropyLoss()\n",
    "optimizer = Adam(model.parameters(), lr=LR)"
   ]
  },
  {
   "cell_type": "code",
   "execution_count": 10,
   "id": "7a41b4aa-7c59-4269-a88a-dac24afea7cc",
   "metadata": {
    "tags": []
   },
   "outputs": [
    {
     "name": "stdout",
     "output_type": "stream",
     "text": [
      "--------------------Epoch 1--------------------\n",
      "Train_accuracy: 0.0332 | Train_loss: 3.9090\n",
      "Val_accuracy: 0.0356 | Val_loss: 3.8976\n",
      "--------------------Epoch 2--------------------\n",
      "Train_accuracy: 0.0451 | Train_loss: 3.8940\n",
      "Val_accuracy: 0.0400 | Val_loss: 3.8918\n",
      "--------------------Epoch 3--------------------\n",
      "Train_accuracy: 0.0498 | Train_loss: 3.8897\n",
      "Val_accuracy: 0.0467 | Val_loss: 3.8842\n",
      "--------------------Epoch 4--------------------\n",
      "Train_accuracy: 0.0541 | Train_loss: 3.8869\n",
      "Val_accuracy: 0.0533 | Val_loss: 3.8838\n",
      "--------------------Epoch 5--------------------\n",
      "Train_accuracy: 0.0582 | Train_loss: 3.8833\n",
      "Val_accuracy: 0.0600 | Val_loss: 3.8759\n",
      "--------------------Epoch 6--------------------\n",
      "Train_accuracy: 0.0626 | Train_loss: 3.8805\n",
      "Val_accuracy: 0.0711 | Val_loss: 3.8750\n",
      "--------------------Epoch 7--------------------\n",
      "Train_accuracy: 0.0631 | Train_loss: 3.8788\n",
      "Val_accuracy: 0.0733 | Val_loss: 3.8711\n",
      "--------------------Epoch 8--------------------\n",
      "Train_accuracy: 0.0648 | Train_loss: 3.8775\n",
      "Val_accuracy: 0.0756 | Val_loss: 3.8680\n",
      "--------------------Epoch 9--------------------\n",
      "Train_accuracy: 0.0665 | Train_loss: 3.8761\n",
      "Val_accuracy: 0.0911 | Val_loss: 3.8637\n",
      "--------------------Epoch 10--------------------\n",
      "Train_accuracy: 0.0673 | Train_loss: 3.8755\n",
      "Val_accuracy: 0.0800 | Val_loss: 3.8627\n",
      "--------------------Epoch 11--------------------\n",
      "Train_accuracy: 0.0683 | Train_loss: 3.8745\n",
      "Val_accuracy: 0.0711 | Val_loss: 3.8680\n",
      "--------------------Epoch 12--------------------\n",
      "Train_accuracy: 0.0682 | Train_loss: 3.8740\n",
      "Val_accuracy: 0.0800 | Val_loss: 3.8644\n",
      "--------------------Epoch 13--------------------\n",
      "Train_accuracy: 0.0698 | Train_loss: 3.8732\n",
      "Val_accuracy: 0.0733 | Val_loss: 3.8670\n",
      "--------------------Epoch 14--------------------\n",
      "Train_accuracy: 0.0696 | Train_loss: 3.8729\n",
      "Val_accuracy: 0.0689 | Val_loss: 3.8639\n",
      "--------------------Epoch 15--------------------\n",
      "Train_accuracy: 0.0709 | Train_loss: 3.8723\n",
      "Val_accuracy: 0.0756 | Val_loss: 3.8612\n",
      "--------------------Epoch 16--------------------\n",
      "Train_accuracy: 0.0706 | Train_loss: 3.8720\n",
      "Val_accuracy: 0.0800 | Val_loss: 3.8641\n",
      "--------------------Epoch 17--------------------\n",
      "Train_accuracy: 0.0716 | Train_loss: 3.8717\n",
      "Val_accuracy: 0.0867 | Val_loss: 3.8557\n",
      "--------------------Epoch 18--------------------\n",
      "Train_accuracy: 0.0715 | Train_loss: 3.8714\n",
      "Val_accuracy: 0.0733 | Val_loss: 3.8649\n",
      "--------------------Epoch 19--------------------\n",
      "Train_accuracy: 0.0721 | Train_loss: 3.8712\n",
      "Val_accuracy: 0.0889 | Val_loss: 3.8558\n",
      "--------------------Epoch 20--------------------\n",
      "Train_accuracy: 0.0725 | Train_loss: 3.8703\n",
      "Val_accuracy: 0.0689 | Val_loss: 3.8622\n",
      "--------------------Epoch 21--------------------\n",
      "Train_accuracy: 0.0733 | Train_loss: 3.8697\n",
      "Val_accuracy: 0.0822 | Val_loss: 3.8622\n",
      "--------------------Epoch 22--------------------\n",
      "Train_accuracy: 0.0736 | Train_loss: 3.8696\n",
      "Val_accuracy: 0.0800 | Val_loss: 3.8633\n",
      "--------------------Epoch 23--------------------\n",
      "Train_accuracy: 0.0729 | Train_loss: 3.8700\n",
      "Val_accuracy: 0.0800 | Val_loss: 3.8586\n",
      "--------------------Epoch 24--------------------\n",
      "Train_accuracy: 0.0744 | Train_loss: 3.8691\n",
      "Val_accuracy: 0.0622 | Val_loss: 3.8642\n",
      "--------------------Epoch 25--------------------\n",
      "Train_accuracy: 0.0742 | Train_loss: 3.8689\n",
      "Val_accuracy: 0.0778 | Val_loss: 3.8573\n",
      "--------------------Epoch 26--------------------\n",
      "Train_accuracy: 0.0748 | Train_loss: 3.8685\n",
      "Val_accuracy: 0.0822 | Val_loss: 3.8630\n",
      "--------------------Epoch 27--------------------\n",
      "Train_accuracy: 0.0746 | Train_loss: 3.8688\n",
      "Val_accuracy: 0.0689 | Val_loss: 3.8675\n",
      "--------------------Epoch 28--------------------\n",
      "Train_accuracy: 0.0746 | Train_loss: 3.8685\n",
      "Val_accuracy: 0.0844 | Val_loss: 3.8589\n",
      "--------------------Epoch 29--------------------\n",
      "Train_accuracy: 0.0758 | Train_loss: 3.8677\n",
      "Val_accuracy: 0.0778 | Val_loss: 3.8593\n",
      "--------------------Epoch 30--------------------\n",
      "Train_accuracy: 0.0760 | Train_loss: 3.8674\n",
      "Val_accuracy: 0.0756 | Val_loss: 3.8628\n"
     ]
    }
   ],
   "source": [
    "# record\n",
    "train_acc_history = []\n",
    "train_loss_history = []\n",
    "valid_acc_history = []\n",
    "valid_loss_history = []\n",
    "\n",
    "# Training\n",
    "for epoch in range(EPOCHS):\n",
    "    train_loss = 0.0\n",
    "    correct = 0\n",
    "    total = 0\n",
    "    times = 0\n",
    "    \n",
    "    for i, data in enumerate(train_loader):\n",
    "        inputs, label = data\n",
    "        inputs = inputs.to(device)\n",
    "        label = label.to(device)\n",
    "        \n",
    "        # Zero the parameter gradients\n",
    "        optimizer.zero_grad()\n",
    "\n",
    "        # Forward pass\n",
    "        outputs = model(inputs)\n",
    "        loss = criterion(outputs, label)\n",
    "\n",
    "        # Backward pass and optimization\n",
    "        loss.backward()\n",
    "        optimizer.step()\n",
    "\n",
    "        train_loss += loss.item()\n",
    "        _, predicted = torch.max(outputs.data, 1)\n",
    "        _, corrected = torch.max(label.data, 1)\n",
    "        total += label.size(0)\n",
    "        correct += (predicted == corrected).sum().item()\n",
    "        times = i + 1 \n",
    "\n",
    "    train_loss_history.append(train_loss/times)\n",
    "    train_acc_history.append(correct/total)\n",
    "    print(f\"--------------------Epoch {epoch+1}--------------------\")\n",
    "    print(f\"Train_accuracy: {(correct/total):.4f} | Train_loss: {(train_loss/times):.4f}\")\n",
    "    \n",
    "    # Validation\n",
    "    model.eval()\n",
    "    val_loss = 0.0\n",
    "    val_correct = 0\n",
    "    val_total = 0\n",
    "    times = 0\n",
    "    with torch.no_grad():\n",
    "        for i, data in enumerate(vaild_loader):\n",
    "            inputs, label = data\n",
    "            inputs = inputs.to(device)\n",
    "            label = label.to(device)\n",
    "\n",
    "            # inference\n",
    "            outputs = model(inputs)\n",
    "            loss = criterion(outputs, label)\n",
    "            val_loss += loss.item()\n",
    "\n",
    "            # check correct\n",
    "            _, predicted = torch.max(outputs.data, 1)\n",
    "            _, corrected = torch.max(label.data, 1)\n",
    "            val_total += label.size(0)\n",
    "            val_correct += (predicted == corrected).sum().item()\n",
    "            times = i + 1\n",
    "            \n",
    "    valid_loss_history.append(val_loss/times)\n",
    "    valid_acc_history.append(val_correct/val_total)\n",
    "\n",
    "    print(f\"Val_accuracy: {(val_correct/val_total):.4f} | Val_loss: {val_loss/times:.4f}\")"
   ]
  },
  {
   "cell_type": "markdown",
   "id": "3696992a-ad4d-4b30-8585-de4a12f5c57a",
   "metadata": {},
   "source": [
    "### Test"
   ]
  },
  {
   "cell_type": "code",
   "execution_count": 11,
   "id": "4bcd8be6-d264-4374-8e7f-49d7f44c8f38",
   "metadata": {},
   "outputs": [
    {
     "name": "stdout",
     "output_type": "stream",
     "text": [
      "Accuracy on the test images: 0.0733\n",
      "Inference time: 0.01018763s\n"
     ]
    }
   ],
   "source": [
    "# Test the model on the test dataset\n",
    "correct = 0\n",
    "total = 0\n",
    "# starter = torch.cuda.Event(enable_timing=True)\n",
    "# ender = torch.cuda.Event(enable_timing=True)\n",
    "start_time = time.time()\n",
    "with torch.no_grad():\n",
    "    for data in test_loader:\n",
    "        inputs, label = data\n",
    "        inputs = inputs.to(device)\n",
    "        label = label.to(device)\n",
    "\n",
    "        # inference \n",
    "        # starter.record()\n",
    "        outputs = model(inputs)\n",
    "        # ender.record()\n",
    "        \n",
    "        # check correct\n",
    "        _, predicted = torch.max(outputs.data, 1)\n",
    "        _, corrected = torch.max(label.data, 1)\n",
    "        total += label.size(0)\n",
    "        correct += (predicted == corrected).sum().item()\n",
    "        \n",
    "        # record time\n",
    "        # torch.cuda.synchronize()\n",
    "        # curr_time = starter.elapsed_time(ender)\n",
    "        \n",
    "print(f'Accuracy on the test images: {(correct/total):.4f}')\n",
    "# print(f'Inference time: {curr_time:.4f} milliseconds')\n",
    "inference_time = time.time() - start_time\n",
    "print(f'Inference time: {inference_time:.8f}s')"
   ]
  },
  {
   "cell_type": "markdown",
   "id": "a9443d73-cd82-405f-af53-30084393fdd7",
   "metadata": {},
   "source": [
    "### Curves of the training accuracy and validation accuracy"
   ]
  },
  {
   "cell_type": "code",
   "execution_count": 12,
   "id": "66647a9d-8534-43cd-83b4-0a38b1ae0752",
   "metadata": {
    "tags": []
   },
   "outputs": [],
   "source": [
    "class plot():\n",
    "    def __init__(self, train_acc_history, valid_acc_history, train_loss_history, valid_loss_history):\n",
    "        self.train_acc_history = train_acc_history\n",
    "        self.valid_acc_history = valid_acc_history\n",
    "        self.train_loss_history = train_loss_history\n",
    "        self.valid_loss_history = valid_loss_history\n",
    "        \n",
    "    def call(self):\n",
    "        self.plot_acc()\n",
    "        self.plot_loss()\n",
    "        \n",
    "    def plot_acc(self):\n",
    "        plt.plot(self.train_acc_history)\n",
    "        plt.plot(self.valid_acc_history)\n",
    "        plt.title('Accuracy History')\n",
    "        plt.ylabel('Accuracy')\n",
    "        plt.xlabel('Epoch')\n",
    "        plt.legend(['train', 'val'], loc='upper left')\n",
    "        plt.show()\n",
    "\n",
    "    def plot_loss(self):\n",
    "        plt.plot(self.train_loss_history)\n",
    "        plt.plot(self.valid_loss_history)\n",
    "        plt.title('Loss History')\n",
    "        plt.ylabel('Loss')\n",
    "        plt.xlabel('Epoch')\n",
    "        plt.legend(['train', 'val'], loc='upper left')\n",
    "        plt.show()"
   ]
  },
  {
   "cell_type": "code",
   "execution_count": 13,
   "id": "320c2664-9094-4fa4-a1b9-b68c74ac1c3a",
   "metadata": {},
   "outputs": [
    {
     "data": {
      "image/png": "[encoded data removed]",
      "text/plain": [
       "<Figure size 432x288 with 1 Axes>"
      ]
     },
     "metadata": {
      "needs_background": "light"
     },
     "output_type": "display_data"
    },
    {
     "data": {
      "image/png": "[encoded data removed]",
      "text/plain": [
       "<Figure size 432x288 with 1 Axes>"
      ]
     },
     "metadata": {
      "needs_background": "light"
     },
     "output_type": "display_data"
    }
   ],
   "source": [
    "myPlot = plot(train_acc_history, valid_acc_history, train_loss_history, valid_loss_history)\n",
    "myPlot.call()"
   ]
  },
  {
   "cell_type": "markdown",
   "id": "a2b46d8a-93bc-43f7-b183-f6a4b3d78bdf",
   "metadata": {},
   "source": [
    "### Flops and Space Complexity\n",
    "- FLOPs（浮點運算次數）：模型計算過程中所執行的浮點運算（加法和乘法）的總次數。FLOPs通常用來估計模型的計算需求和效能，尤其是在硬體加速器的應用中。\n",
    "- https://zhuanlan.zhihu.com/p/364543528"
   ]
  },
  {
   "cell_type": "code",
   "execution_count": 14,
   "id": "aaa307f0-0c04-4efa-8f80-2a89f2540532",
   "metadata": {},
   "outputs": [
    {
     "name": "stdout",
     "output_type": "stream",
     "text": [
      "LeNet5(\n",
      "  65.11 k, 100.000% Params, 439.25 KMac, 100.000% MACs, \n",
      "  (c1): Conv2d(156, 0.240% Params, 122.3 KMac, 27.844% MACs, 1, 6, kernel_size=(5, 5), stride=(1, 1))\n",
      "  (r1): ReLU(0, 0.000% Params, 4.7 KMac, 1.071% MACs, )\n",
      "  (p1): MaxPool2d(0, 0.000% Params, 4.7 KMac, 1.071% MACs, kernel_size=2, stride=2, padding=0, dilation=1, ceil_mode=False)\n",
      "  (c2): Conv2d(2.42 k, 3.711% Params, 241.6 KMac, 55.003% MACs, 6, 16, kernel_size=(5, 5), stride=(1, 1))\n",
      "  (r2): ReLU(0, 0.000% Params, 1.6 KMac, 0.364% MACs, )\n",
      "  (p2): MaxPool2d(0, 0.000% Params, 1.6 KMac, 0.364% MACs, kernel_size=2, stride=2, padding=0, dilation=1, ceil_mode=False)\n",
      "  (fc1): Linear(48.12 k, 73.910% Params, 48.12 KMac, 10.955% MACs, in_features=400, out_features=120, bias=True)\n",
      "  (r3): ReLU(0, 0.000% Params, 120.0 Mac, 0.027% MACs, )\n",
      "  (fc2): Linear(10.16 k, 15.611% Params, 10.16 KMac, 2.314% MACs, in_features=120, out_features=84, bias=True)\n",
      "  (r4): ReLU(0, 0.000% Params, 84.0 Mac, 0.019% MACs, )\n",
      "  (fc3): Linear(4.25 k, 6.528% Params, 4.25 KMac, 0.968% MACs, in_features=84, out_features=50, bias=True)\n",
      "  (s1): Softmax(0, 0.000% Params, 0.0 Mac, 0.000% MACs, dim=1)\n",
      ")\n",
      "Computational complexity:       439.25 KMac\n",
      "Number of parameters:           65.11 k \n"
     ]
    }
   ],
   "source": [
    "macs, params = get_model_complexity_info(model, (1, 32, 32), as_strings=True, print_per_layer_stat=True)\n",
    "print('{:<30}  {:<8}'.format('Computational complexity: ', macs))\n",
    "print('{:<30}  {:<8}'.format('Number of parameters: ', params))"
   ]
  }
 ],
 "metadata": {
  "kernelspec": {
   "display_name": "Python 3",
   "language": "python",
   "name": "python3"
  },
  "language_info": {
   "codemirror_mode": {
    "name": "ipython",
    "version": 3
   },
   "file_extension": ".py",
   "mimetype": "text/x-python",
   "name": "python",
   "nbconvert_exporter": "python",
   "pygments_lexer": "ipython3",
   "version": "3.6.9"
  }
 },
 "nbformat": 4,
 "nbformat_minor": 5
}
