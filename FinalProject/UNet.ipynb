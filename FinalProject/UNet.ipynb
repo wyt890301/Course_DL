{
 "cells": [
  {
   "cell_type": "code",
   "execution_count": 1,
   "id": "e2ac505d-8c4a-4bf4-848d-ceffbcbe8846",
   "metadata": {},
   "outputs": [
    {
     "data": {
      "text/plain": [
       "'1.10.1+cu113'"
      ]
     },
     "execution_count": 1,
     "metadata": {},
     "output_type": "execute_result"
    }
   ],
   "source": [
    "import os, sys\n",
    "import numpy as np\n",
    "import math\n",
    "import seaborn as sns\n",
    "import matplotlib.pyplot as plt\n",
    "from tqdm.notebook import tqdm\n",
    "import cv2\n",
    "from sklearn.metrics import accuracy_score\n",
    "from sklearn.model_selection import train_test_split\n",
    "import torch\n",
    "import torchvision\n",
    "import torch.nn as nn\n",
    "import segmentation_models_pytorch as smp\n",
    "from torch.nn import CrossEntropyLoss\n",
    "from torch.optim import SGD, Adam\n",
    "from torch.utils.data import Dataset, DataLoader\n",
    "from thop import profile\n",
    "torch.__version__"
   ]
  },
  {
   "cell_type": "code",
   "execution_count": 2,
   "id": "3d799c2c-ad0c-46c8-8497-580aafe916f8",
   "metadata": {},
   "outputs": [],
   "source": [
    "RANDOM_STATE = 111\n",
    "BATCH_SIZE = 16\n",
    "EPOCHS = 10\n",
    "TEST_SIZE = 0.15\n",
    "LR = 1e-4"
   ]
  },
  {
   "cell_type": "code",
   "execution_count": 3,
   "id": "ca0d273f-a5c5-4ec0-97b6-4c43d930f5e6",
   "metadata": {
    "tags": []
   },
   "outputs": [
    {
     "name": "stdout",
     "output_type": "stream",
     "text": [
      "資料共239筆\n"
     ]
    }
   ],
   "source": [
    "dir_path = './data/'\n",
    "dir_list = ['normal', 'osteopenia', 'osteoporosis']\n",
    "\n",
    "data_path, labels = [], []\n",
    "for index, item in enumerate(dir_list):\n",
    "    images = os.listdir(dir_path + item)\n",
    "    for image in images:\n",
    "        if image[0] != '.':\n",
    "            data_path.append(dir_path + item + '/' + image)\n",
    "            labels.append(index)\n",
    "\n",
    "print(f'資料共{len(data_path)}筆')"
   ]
  },
  {
   "cell_type": "markdown",
   "id": "5a541efc-9d00-4379-b6d8-d8ebdfa4515c",
   "metadata": {},
   "source": [
    "### 資料前處理"
   ]
  },
  {
   "cell_type": "code",
   "execution_count": 4,
   "id": "6ca6ae47-54d8-49d2-abc0-155a15370568",
   "metadata": {},
   "outputs": [],
   "source": [
    "def data_preprocess(paths):\n",
    "    features = []\n",
    "    for path in tqdm(paths):\n",
    "        # 讀取image，並轉為灰階影像\n",
    "        img = cv2.imread(path)\n",
    "        img = cv2.resize(img, (256, 256))\n",
    "        img = np.transpose(img, (2, 0, 1)).astype('float32')\n",
    "        # 標準化(MaxAbs)，灰階影像最大為255\n",
    "        img = img / 255\n",
    "        features.append(img)\n",
    "        \n",
    "    return features"
   ]
  },
  {
   "cell_type": "markdown",
   "id": "3c4bdf81-8244-4aeb-80c9-aa306e367da9",
   "metadata": {},
   "source": [
    "### OneHotEncoding"
   ]
  },
  {
   "cell_type": "code",
   "execution_count": 5,
   "id": "117081c8-8501-4d3c-b064-2e13a778c47f",
   "metadata": {},
   "outputs": [],
   "source": [
    "# 轉成np.array再轉成oneHotEncoding\n",
    "def OneHotEncoding(labels):\n",
    "    y = np.eye(3)[np.array(list(map(int, labels)))]\n",
    "    return y"
   ]
  },
  {
   "cell_type": "markdown",
   "id": "71b34c83-e05d-4317-b978-1c4a8c7ac64d",
   "metadata": {},
   "source": [
    "### 切分資料"
   ]
  },
  {
   "cell_type": "code",
   "execution_count": 6,
   "id": "7371a4c3-d7d4-4a04-9866-abb913f6bca5",
   "metadata": {},
   "outputs": [
    {
     "name": "stdout",
     "output_type": "stream",
     "text": [
      "訓練資料共203筆\n",
      "驗證資料共36筆\n",
      "CPU times: user 1.52 ms, sys: 0 ns, total: 1.52 ms\n",
      "Wall time: 1.43 ms\n"
     ]
    }
   ],
   "source": [
    "%%time\n",
    "X_train, X_valid, Y_train, Y_valid = train_test_split(data_path, labels, test_size=TEST_SIZE, random_state=RANDOM_STATE)\n",
    "print(f'訓練資料共{len(X_train)}筆')\n",
    "print(f'驗證資料共{len(X_valid)}筆')"
   ]
  },
  {
   "cell_type": "code",
   "execution_count": 7,
   "id": "4b582018-8bc9-4478-b9d0-164e988c1476",
   "metadata": {},
   "outputs": [],
   "source": [
    "class imageDataset(Dataset):\n",
    "    def __init__(self, data, labels):\n",
    "        self.data = data\n",
    "        self.labels = labels\n",
    "\n",
    "    def __len__(self):\n",
    "        return len(self.data)\n",
    "\n",
    "    def __getitem__(self, index):\n",
    "        x = self.data[index]\n",
    "        y = self.labels[index]\n",
    "        return x, y"
   ]
  },
  {
   "cell_type": "code",
   "execution_count": 8,
   "id": "91ca0455-1a3b-4a37-810e-44501a91d4a7",
   "metadata": {},
   "outputs": [
    {
     "data": {
      "application/vnd.jupyter.widget-view+json": {
       "model_id": "eb56e38f5ce348f1898b066b695301e4",
       "version_major": 2,
       "version_minor": 0
      },
      "text/plain": [
       "  0%|          | 0/203 [00:00<?, ?it/s]"
      ]
     },
     "metadata": {},
     "output_type": "display_data"
    },
    {
     "data": {
      "application/vnd.jupyter.widget-view+json": {
       "model_id": "dbdddf0a346144a59a173df24f255bf4",
       "version_major": 2,
       "version_minor": 0
      },
      "text/plain": [
       "  0%|          | 0/36 [00:00<?, ?it/s]"
      ]
     },
     "metadata": {},
     "output_type": "display_data"
    },
    {
     "name": "stdout",
     "output_type": "stream",
     "text": [
      "CPU times: user 13.3 s, sys: 1.21 s, total: 14.5 s\n",
      "Wall time: 14.5 s\n"
     ]
    }
   ],
   "source": [
    "%%time\n",
    "train_data = imageDataset(data_preprocess(X_train), OneHotEncoding(Y_train))\n",
    "val_data = imageDataset(data_preprocess(X_valid), OneHotEncoding(Y_valid))"
   ]
  },
  {
   "cell_type": "markdown",
   "id": "a3bcc01e-02eb-4f0f-85c3-2fcd619915d1",
   "metadata": {},
   "source": [
    "### UNet\n",
    "- https://github.com/qubvel/segmentation_models.pytorch\n",
    "- https://ithelp.ithome.com.tw/articles/10240314"
   ]
  },
  {
   "cell_type": "code",
   "execution_count": 9,
   "id": "77f1c109-a56f-49c6-bf08-31b288abe6a8",
   "metadata": {},
   "outputs": [],
   "source": [
    "# set the DataLoader\n",
    "train_loader = DataLoader(train_data, batch_size=BATCH_SIZE, shuffle = True)\n",
    "test_loader = DataLoader(val_data, batch_size=36, shuffle = False)\n",
    "\n",
    "# choose GPU\n",
    "device = 'cuda:0' if torch.cuda.is_available() else 'cpu'\n",
    "\n",
    "# pre-trained model\n",
    "# model = UNet(pretrained=True).to(device)\n",
    "\n",
    "model = smp.Unet(\n",
    "    encoder_name=\"resnet34\",        # choose encoder, e.g. mobilenet_v2 or efficientnet-b7\n",
    "    encoder_weights=\"imagenet\",     # use `imagenet` pre-trained weights for encoder initialization\n",
    "    in_channels=3,                  # model input channels (1 for gray-scale images, 3 for RGB, etc.)\n",
    "    classes=3                       # model output channels (number of classes in your dataset)\n",
    ").to(device)\n",
    "\n",
    "# Define loss function and optimizer\n",
    "criterion = CrossEntropyLoss()\n",
    "optimizer = Adam(model.parameters(), lr=LR)"
   ]
  },
  {
   "cell_type": "code",
   "execution_count": 10,
   "id": "29f92486-91a1-48c2-be64-e31efc591a29",
   "metadata": {},
   "outputs": [
    {
     "name": "stdout",
     "output_type": "stream",
     "text": [
      "--------------------Epoch 1--------------------\n",
      "Train_accuracy: 59.11% | Train_loss: 12.7205\n",
      "--------------------Epoch 2--------------------\n",
      "Train_accuracy: 66.01% | Train_loss: 11.4353\n",
      "--------------------Epoch 3--------------------\n",
      "Train_accuracy: 59.11% | Train_loss: 11.2100\n",
      "--------------------Epoch 4--------------------\n",
      "Train_accuracy: 66.01% | Train_loss: 11.2096\n",
      "--------------------Epoch 5--------------------\n",
      "Train_accuracy: 68.97% | Train_loss: 9.5337\n",
      "--------------------Epoch 6--------------------\n",
      "Train_accuracy: 72.41% | Train_loss: 8.2719\n",
      "--------------------Epoch 7--------------------\n",
      "Train_accuracy: 79.80% | Train_loss: 7.5258\n",
      "--------------------Epoch 8--------------------\n",
      "Train_accuracy: 82.27% | Train_loss: 6.9230\n",
      "--------------------Epoch 9--------------------\n",
      "Train_accuracy: 87.19% | Train_loss: 5.3165\n",
      "--------------------Epoch 10--------------------\n",
      "Train_accuracy: 82.76% | Train_loss: 5.1239\n",
      "Accuracy on the test images: 55.56%\n",
      "Inference time: 36.5404 milliseconds\n"
     ]
    }
   ],
   "source": [
    "# Training loop\n",
    "acc_history = []\n",
    "loss_history = []\n",
    "timing_history = np.zeros((EPOCHS, 1))\n",
    "\n",
    "for epoch in range(EPOCHS):\n",
    "    train_loss = 0.0\n",
    "    correct = 0\n",
    "    total = 0\n",
    "    for i, data in enumerate(train_loader):\n",
    "        inputs, label = data\n",
    "        inputs = inputs.to(device)\n",
    "        label = label.to(device)\n",
    "        \n",
    "        # Zero the parameter gradients\n",
    "        optimizer.zero_grad()\n",
    "\n",
    "        # Forward pass\n",
    "        outputs = model(inputs.to(device))\n",
    "        # 將三維壓縮為一維\n",
    "        avg_pool = nn.AdaptiveMaxPool2d(1)\n",
    "        squeeze_outputs = avg_pool(outputs).squeeze()\n",
    "        \n",
    "        # calculate loss\n",
    "        loss = criterion(squeeze_outputs, label)\n",
    "\n",
    "        # Backward pass and optimization\n",
    "        loss.backward()\n",
    "        optimizer.step()\n",
    "\n",
    "        train_loss += loss.item()\n",
    "        _, predicted = torch.max(squeeze_outputs, 1)\n",
    "        _, corrected = torch.max(label.data, 1)\n",
    "        total += label.size(0)\n",
    "        correct += (predicted == corrected).sum().item()\n",
    "\n",
    "    loss_history.append(train_loss)\n",
    "    acc_history.append(100*correct/total)\n",
    "    print(f\"--------------------Epoch {epoch+1}--------------------\")\n",
    "    print(f\"Train_accuracy: {(100*correct/total):.2f}% | Train_loss: {train_loss:.4f}\")\n",
    "    \n",
    "# Evaluate the model on the test dataset\n",
    "correct = 0\n",
    "total = 0\n",
    "starter = torch.cuda.Event(enable_timing=True)\n",
    "ender = torch.cuda.Event(enable_timing=True)\n",
    "timing = 0\n",
    "with torch.no_grad():\n",
    "    for data in test_loader:\n",
    "        inputs, label = data\n",
    "        inputs = inputs.to(device)\n",
    "        label = label.to(device)\n",
    "        \n",
    "        # inference\n",
    "        starter.record()\n",
    "        outputs = model(inputs)\n",
    "        ender.record()\n",
    "        \n",
    "        # 將三維壓縮為一維\n",
    "        avg_pool = nn.AdaptiveMaxPool2d(1)\n",
    "        squeeze_outputs = avg_pool(outputs).squeeze()\n",
    "        \n",
    "        # check correct\n",
    "        _, predicted = torch.max(squeeze_outputs, 1)\n",
    "        _, corrected = torch.max(label.data, 1)\n",
    "        total += label.size(0)\n",
    "        correct += (predicted == corrected).sum().item()\n",
    "        \n",
    "        # record time\n",
    "        torch.cuda.synchronize()\n",
    "        curr_time = starter.elapsed_time(ender)\n",
    "        timing = curr_time\n",
    "        \n",
    "print(f'Accuracy on the test images: {(100*correct/total):.2f}%')\n",
    "print(f'Inference time: {timing:.4f} milliseconds')"
   ]
  },
  {
   "cell_type": "markdown",
   "id": "ac535dd0-056e-40d4-ad0d-a0b638391082",
   "metadata": {},
   "source": [
    "### 使用pre-trained的model"
   ]
  },
  {
   "cell_type": "markdown",
   "id": "dc4ec6d2-c8c5-4b44-9619-845494d759ba",
   "metadata": {},
   "source": [
    "### Result"
   ]
  },
  {
   "cell_type": "code",
   "execution_count": 11,
   "id": "66647a9d-8534-43cd-83b4-0a38b1ae0752",
   "metadata": {
    "tags": []
   },
   "outputs": [],
   "source": [
    "class plot():\n",
    "    def __init__(self, acc_history, loss_history):\n",
    "        self.acc_history = acc_history\n",
    "        self.loss_history = loss_history\n",
    "        \n",
    "    def call(self, index):\n",
    "        if index == 0:\n",
    "            self.plot_acc()\n",
    "        else:\n",
    "            self.plot_loss()\n",
    "        \n",
    "    def plot_acc(self):\n",
    "        plt.plot(self.acc_history)\n",
    "        # plt.plot(self.result['accuracy'])\n",
    "        # plt.plot(self.result['val_accuracy'])\n",
    "        plt.title('Accuracy History')\n",
    "        plt.ylabel('Accuracy')\n",
    "        plt.xlabel('Epoch')\n",
    "        plt.legend(['train'], loc='upper left')\n",
    "        # plt.legend(['train', 'val'], loc='upper left')\n",
    "        plt.show()\n",
    "\n",
    "    def plot_loss(self):\n",
    "        plt.plot(self.loss_history)\n",
    "        # plt.plot(self.result['loss'])\n",
    "        # plt.plot(self.result['val_loss'])\n",
    "        plt.title('Loss History')\n",
    "        plt.ylabel('Loss')\n",
    "        plt.xlabel('Epoch')\n",
    "        plt.legend(['train'], loc='upper left')\n",
    "        # plt.legend(['train', 'val'], loc='upper left')\n",
    "        plt.show()"
   ]
  },
  {
   "cell_type": "code",
   "execution_count": 12,
   "id": "320c2664-9094-4fa4-a1b9-b68c74ac1c3a",
   "metadata": {},
   "outputs": [
    {
     "data": {
      "image/png": "[encoded data removed]",
      "text/plain": [
       "<Figure size 432x288 with 1 Axes>"
      ]
     },
     "metadata": {
      "needs_background": "light"
     },
     "output_type": "display_data"
    },
    {
     "data": {
      "image/png": "[encoded data removed]",
      "text/plain": [
       "<Figure size 432x288 with 1 Axes>"
      ]
     },
     "metadata": {
      "needs_background": "light"
     },
     "output_type": "display_data"
    }
   ],
   "source": [
    "myPlot = plot(acc_history, loss_history)\n",
    "myPlot.call(0)\n",
    "myPlot.call(1)"
   ]
  },
  {
   "cell_type": "markdown",
   "id": "a2b46d8a-93bc-43f7-b183-f6a4b3d78bdf",
   "metadata": {},
   "source": [
    "### Flops and macs\n",
    "- https://github.com/zhijian-liu/torchprofile\n",
    "- FLOPs（浮點運算次數）：模型計算過程中所執行的浮點運算（加法和乘法）的總次數。FLOPs通常用來估計模型的計算需求和效能，尤其是在硬體加速器的應用中。\n",
    "- MACs（乘加運算次數）：則是指在模型計算過程中執行的乘法和加法運算的總次數。由於在許多計算中，乘法和加法操作通常是同時進行的，因此MACs可以更好地反映模型的計算需求。"
   ]
  },
  {
   "cell_type": "code",
   "execution_count": 13,
   "id": "25373f2d-b1ee-481e-9e98-fa81b58f6657",
   "metadata": {},
   "outputs": [
    {
     "name": "stdout",
     "output_type": "stream",
     "text": [
      "[INFO] Register count_convNd() for <class 'torch.nn.modules.conv.Conv2d'>.\n",
      "[INFO] Register count_normalization() for <class 'torch.nn.modules.batchnorm.BatchNorm2d'>.\n",
      "[INFO] Register zero_ops() for <class 'torch.nn.modules.activation.ReLU'>.\n",
      "[INFO] Register zero_ops() for <class 'torch.nn.modules.pooling.MaxPool2d'>.\n",
      "[INFO] Register zero_ops() for <class 'torch.nn.modules.container.Sequential'>.\n",
      "FLOPs = 96.390905856G\n",
      "Params = 24.436659M\n"
     ]
    }
   ],
   "source": [
    "inputs = torch.randn(BATCH_SIZE, 3, 224, 224).to(device)\n",
    "flops, params = profile(model, inputs=(inputs, ))\n",
    "print(f'FLOPs = {(flops/1000**3)}G')\n",
    "print(f'Params = {(params/1000**2)}M')"
   ]
  }
 ],
 "metadata": {
  "kernelspec": {
   "display_name": "Python 3",
   "language": "python",
   "name": "python3"
  },
  "language_info": {
   "codemirror_mode": {
    "name": "ipython",
    "version": 3
   },
   "file_extension": ".py",
   "mimetype": "text/x-python",
   "name": "python",
   "nbconvert_exporter": "python",
   "pygments_lexer": "ipython3",
   "version": "3.6.9"
  }
 },
 "nbformat": 4,
 "nbformat_minor": 5
}
