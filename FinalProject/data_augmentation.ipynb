{
 "cells": [
  {
   "cell_type": "code",
   "execution_count": null,
   "id": "ab7258e7-87dc-4dc7-ae83-95c51604144a",
   "metadata": {},
   "outputs": [],
   "source": [
    "import os, sys\n",
    "import numpy as np\n",
    "from sklearn.model_selection import train_test_split\n",
    "from tqdm.notebook import tqdm\n",
    "import cv2\n",
    "import torch\n",
    "from torchvision.models import alexnet, vgg19, inception_v3, resnet50\n",
    "import timm\n",
    "torch.__version__"
   ]
  },
  {
   "cell_type": "markdown",
   "id": "429b51c7-8027-45c0-960e-362caeebb363",
   "metadata": {},
   "source": [
    "### 資料擴增參數設定"
   ]
  },
  {
   "cell_type": "code",
   "execution_count": null,
   "id": "e571a5a5-866c-4f62-b4dd-5fa4378b83fd",
   "metadata": {},
   "outputs": [],
   "source": [
    "import torch\n",
    "from torchvision import transforms\n",
    "from PIL import Image\n",
    "\n",
    "transform1 = transforms.Compose([\n",
    "    transforms.ColorJitter(contrast=2.0),\n",
    "    transforms.RandomHorizontalFlip(),  # 随机水平翻转\n",
    "\n",
    "])\n",
    "\n",
    "transform2 = transforms.Compose([\n",
    "    transforms.ColorJitter(brightness=0.1, contrast=1.5)\n",
    "])\n",
    "\n",
    "transform3 = transforms.Compose([\n",
    "    transforms.RandomRotation(2)      # 随机旋转角度范围为-2到2度\n",
    "\n",
    "\n",
    "])\n",
    "\n",
    "transform4 = transforms.Compose([\n",
    "    transforms.ColorJitter(brightness=0.1, contrast=0.5),\n",
    "    transforms.RandomHorizontalFlip(),  # 随机水平翻转\n",
    "    transforms.RandomRotation(2)      # 随机旋转角度范围为-2到2度\n",
    "\n",
    "])\n",
    "\n",
    "\n",
    "transform5 = transforms.Compose([\n",
    "    transforms.ColorJitter(brightness=1.0, contrast=2.0),\n",
    "    transforms.RandomRotation(5)      # 随机旋转角度范围为-5到5度\n",
    "\n",
    "\n",
    "])\n",
    "\n",
    "transform6 = transforms.Compose([\n",
    "    transforms.ColorJitter(brightness=1.0, contrast=2.0),\n",
    "    transforms.RandomRotation(5),      # 随机旋转角度范围为-5到5度\n",
    "    transforms.RandomHorizontalFlip(),  # 随机水平翻转\n",
    "\n",
    "\n",
    "])\n",
    "\n",
    "\n",
    "transform7 = transforms.Compose([\n",
    "    transforms.ColorJitter(brightness=1.5)\n",
    "\n",
    "\n",
    "])\n",
    "\n",
    "\n",
    "transform8 = transforms.Compose([\n",
    "    transforms.RandomRotation(8)      # 随机旋转角度范围为-8到8度\n",
    "])\n",
    "\n"
   ]
  },
  {
   "cell_type": "markdown",
   "id": "83acdc5c-47fa-4f60-b5b0-5e8cbb87126d",
   "metadata": {},
   "source": [
    "### Normal 資料集"
   ]
  },
  {
   "cell_type": "code",
   "execution_count": null,
   "id": "d2edc20a-5f01-4807-a28c-c8f75cefae0e",
   "metadata": {},
   "outputs": [],
   "source": [
    "dir_path = './data/'\n",
    "dir_list = ['normal']\n",
    "\n",
    "normal_path, labels = [], []\n",
    "for index, item in enumerate(dir_list):\n",
    "    images = os.listdir(dir_path + item)\n",
    "    for image in images:\n",
    "        if image[0] != '.':\n",
    "            normal_path.append(dir_path + item + '/' + image)\n",
    "            labels.append(index)\n",
    "\n",
    "print(f'資料共{len(normal_path)}筆')"
   ]
  },
  {
   "cell_type": "markdown",
   "id": "b4b23286-298b-4c47-9e56-969a8c6309e9",
   "metadata": {},
   "source": [
    "- tramsform 1~8"
   ]
  },
  {
   "cell_type": "code",
   "execution_count": null,
   "id": "d7ea025d-67d7-423b-9086-a6c5c39db13f",
   "metadata": {},
   "outputs": [],
   "source": [
    "i = 0\n",
    "for path in normal_path:\n",
    "    image = Image.open(normal_path[i])\n",
    "    for j in range(1, 9):\n",
    "        transform_fn = globals()['transform{}'.format(j)]  # Get the transform function dynamically\n",
    "        resized_image = transform_fn(image)\n",
    "        m = str(i+1)\n",
    "        filename = './augdata/normal/normal_transform{}_{}.jpg'.format(j, m)\n",
    "        resized_image.save(filename)\n",
    "        print(filename)\n",
    "    i = i + 1\n"
   ]
  },
  {
   "cell_type": "markdown",
   "id": "c534f7e5-4c98-48cd-b4da-eba9757174f9",
   "metadata": {},
   "source": [
    "### Osteopenia 資料集"
   ]
  },
  {
   "cell_type": "code",
   "execution_count": null,
   "id": "5b24c26f-4bf8-4dbe-bc67-a51c2c61237b",
   "metadata": {},
   "outputs": [],
   "source": [
    "dir_list = ['osteopenia']\n",
    "\n",
    "osteopenia_data_path, labels = [], []\n",
    "for index, item in enumerate(dir_list):\n",
    "    images = os.listdir(dir_path + item)\n",
    "    for image in images:\n",
    "        if image[0] != '.':\n",
    "            osteopenia_data_path.append(dir_path + item + '/' + image)\n",
    "            labels.append(index)\n",
    "\n",
    "print(f'資料共{len(osteopenia_data_path)}筆')"
   ]
  },
  {
   "cell_type": "code",
   "execution_count": null,
   "id": "962793f1-cb8f-4eed-9985-6b3e8cd61e6b",
   "metadata": {},
   "outputs": [],
   "source": [
    "i = 0\n",
    "for path in osteopenia_data_path:\n",
    "    image = Image.open(osteopenia_data_path[i])\n",
    "    \n",
    "    j = 1\n",
    "    transform_fn = globals()['transform{}'.format(j)]  # Get the transform function dynamically\n",
    "    transform_image = transform_fn(image)\n",
    "    m = str(i+1)\n",
    "    filename = './augdata/osteopenia/osteopenia_transform{}_{}.jpg'.format(j, m)\n",
    "    transform_image.save(filename)\n",
    "    print(filename)\n",
    "    \n",
    "    i = i + 1\n"
   ]
  },
  {
   "cell_type": "markdown",
   "id": "859e6e88-9919-408b-bb3f-8b82688f5873",
   "metadata": {},
   "source": [
    "- transform 1"
   ]
  },
  {
   "cell_type": "markdown",
   "id": "2a25f06f-6588-446c-b9ac-22ff7f2e1b70",
   "metadata": {},
   "source": [
    "### Osteoporosis 資料集"
   ]
  },
  {
   "cell_type": "code",
   "execution_count": null,
   "id": "22534872-09c9-4f0d-9109-5b470f77acd5",
   "metadata": {},
   "outputs": [],
   "source": [
    "dir_list = ['osteoporosis']\n",
    "\n",
    "osteoporosis_data_path, labels = [], []\n",
    "for index, item in enumerate(dir_list):\n",
    "    images = os.listdir(dir_path + item)\n",
    "    for image in images:\n",
    "        if image[0] != '.':\n",
    "            osteoporosis_data_path.append(dir_path + item + '/' + image)\n",
    "            labels.append(index)\n",
    "\n",
    "print(f'資料共{len(osteoporosis_data_path)}筆')"
   ]
  },
  {
   "cell_type": "markdown",
   "id": "22ef9f29-6847-4a9f-915f-69fbf33c2b33",
   "metadata": {},
   "source": [
    "- transform 1~6"
   ]
  },
  {
   "cell_type": "code",
   "execution_count": null,
   "id": "7b391609-ec6c-4ed1-a0d5-a337561d51e1",
   "metadata": {},
   "outputs": [],
   "source": [
    "i = 0\n",
    "for path in osteoporosis_data_path:\n",
    "    image = Image.open(osteoporosis_data_path[i])\n",
    "    for j in range(1, 7):\n",
    "        transform_fn = globals()['transform{}'.format(j)]  # Get the transform function dynamically\n",
    "        transform_image = transform_fn(image)\n",
    "        m = str(i+1)\n",
    "        filename = './augdata/osteoporosis/osteoporosis_transform{}_{}.jpg'.format(j, m)\n",
    "        transform_image.save(filename)\n",
    "        print(filename)\n",
    "    i = i + 1\n"
   ]
  },
  {
   "cell_type": "markdown",
   "id": "7c18b4a2-18db-4fcf-b5ef-47d3a567695f",
   "metadata": {},
   "source": [
    "### 讀取新資料"
   ]
  },
  {
   "cell_type": "code",
   "execution_count": null,
   "id": "589ffb91-afca-4af2-8a15-8034ac247603",
   "metadata": {},
   "outputs": [],
   "source": [
    "dir_list = ['normal', 'osteopenia', 'osteoporosis']\n",
    "\n",
    "data_path, labels = [], []\n",
    "for index, item in enumerate(dir_list):\n",
    "    images = os.listdir(dir_path + item)\n",
    "    for image in images:\n",
    "        if image[0] != '.':\n",
    "            data_path.append(dir_path + item + '/' + image)\n",
    "            labels.append(index)\n",
    "\n",
    "print(f'資料擴增後資料共{len(data_path)}筆')"
   ]
  },
  {
   "cell_type": "code",
   "execution_count": null,
   "id": "678bc3b5-45c1-49a4-a236-f72f5af0e132",
   "metadata": {},
   "outputs": [],
   "source": [
    "x = [0,0,0]\n",
    "for i in labels:\n",
    "    x[i] = x[i]+1\n",
    "\n",
    "print(f'normal資料: {x[0]}筆')\n",
    "print(f'osteopenia資料: {x[1]}筆')\n",
    "print(f'osteoporosisl資料: {x[2]}筆')"
   ]
  }
 ],
 "metadata": {
  "kernelspec": {
   "display_name": "Python 3",
   "language": "python",
   "name": "python3"
  },
  "language_info": {
   "codemirror_mode": {
    "name": "ipython",
    "version": 3
   },
   "file_extension": ".py",
   "mimetype": "text/x-python",
   "name": "python",
   "nbconvert_exporter": "python",
   "pygments_lexer": "ipython3",
   "version": "3.11.2"
  }
 },
 "nbformat": 4,
 "nbformat_minor": 5
}
