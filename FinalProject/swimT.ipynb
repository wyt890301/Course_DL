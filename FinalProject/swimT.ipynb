{
 "cells": [
  {
   "cell_type": "code",
   "execution_count": 1,
   "id": "e2ac505d-8c4a-4bf4-848d-ceffbcbe8846",
   "metadata": {},
   "outputs": [
    {
     "data": {
      "text/plain": [
       "'1.10.1+cu113'"
      ]
     },
     "execution_count": 1,
     "metadata": {},
     "output_type": "execute_result"
    }
   ],
   "source": [
    "import os, sys\n",
    "import numpy as np\n",
    "import math\n",
    "import seaborn as sns\n",
    "import matplotlib.pyplot as plt\n",
    "from tqdm.notebook import tqdm\n",
    "import cv2\n",
    "from sklearn.metrics import accuracy_score\n",
    "from sklearn.model_selection import train_test_split\n",
    "import torch\n",
    "import torchvision\n",
    "import torch.nn as nn\n",
    "import timm\n",
    "from torch.nn import CrossEntropyLoss\n",
    "from torch.optim import SGD, Adam\n",
    "from torch.utils.data import DataLoader\n",
    "from thop import profile\n",
    "torch.__version__"
   ]
  },
  {
   "cell_type": "code",
   "execution_count": 2,
   "id": "3d799c2c-ad0c-46c8-8497-580aafe916f8",
   "metadata": {},
   "outputs": [],
   "source": [
    "RANDOM_STATE = 111\n",
    "BATCH_SIZE = 32\n",
    "EPOCHS = 10\n",
    "TEST_SIZE = 0.15\n",
    "LR = 1e-4"
   ]
  },
  {
   "cell_type": "code",
   "execution_count": 3,
   "id": "ca0d273f-a5c5-4ec0-97b6-4c43d930f5e6",
   "metadata": {
    "tags": []
   },
   "outputs": [
    {
     "name": "stdout",
     "output_type": "stream",
     "text": [
      "資料共239筆\n"
     ]
    }
   ],
   "source": [
    "dir_path = './data/'\n",
    "dir_list = ['normal', 'osteopenia', 'osteoporosis']\n",
    "\n",
    "data_path, labels = [], []\n",
    "for index, item in enumerate(dir_list):\n",
    "    images = os.listdir(dir_path + item)\n",
    "    for image in images:\n",
    "        if image[0] != '.':\n",
    "            data_path.append(dir_path + item + '/' + image)\n",
    "            labels.append(index)\n",
    "\n",
    "print(f'資料共{len(data_path)}筆')"
   ]
  },
  {
   "cell_type": "markdown",
   "id": "5a541efc-9d00-4379-b6d8-d8ebdfa4515c",
   "metadata": {},
   "source": [
    "### 資料前處理"
   ]
  },
  {
   "cell_type": "code",
   "execution_count": 4,
   "id": "6ca6ae47-54d8-49d2-abc0-155a15370568",
   "metadata": {},
   "outputs": [],
   "source": [
    "def data_preprocess(paths):\n",
    "    features = []\n",
    "    for path in tqdm(paths):\n",
    "        # 讀取image，並轉為灰階影像\n",
    "        img = cv2.imread(path)\n",
    "        img = cv2.resize(img, (224, 224))\n",
    "        img = np.transpose(img, (2, 0, 1)).astype('float32')\n",
    "        # 標準化(MaxAbs)，灰階影像最大為255\n",
    "        img = img / 255\n",
    "        features.append(img)\n",
    "        \n",
    "    return features"
   ]
  },
  {
   "cell_type": "code",
   "execution_count": 5,
   "id": "1a881e2f-b6da-451f-9525-3f7724ef6c0e",
   "metadata": {},
   "outputs": [
    {
     "data": {
      "application/vnd.jupyter.widget-view+json": {
       "model_id": "db6566fc36404041a683fabc2f6c2dce",
       "version_major": 2,
       "version_minor": 0
      },
      "text/plain": [
       "  0%|          | 0/239 [00:00<?, ?it/s]"
      ]
     },
     "metadata": {},
     "output_type": "display_data"
    },
    {
     "name": "stdout",
     "output_type": "stream",
     "text": [
      "CPU times: user 13.1 s, sys: 1.1 s, total: 14.1 s\n",
      "Wall time: 14.2 s\n"
     ]
    }
   ],
   "source": [
    "%%time\n",
    "data = data_preprocess(data_path)"
   ]
  },
  {
   "cell_type": "markdown",
   "id": "3c4bdf81-8244-4aeb-80c9-aa306e367da9",
   "metadata": {},
   "source": [
    "### OneHotEncoding"
   ]
  },
  {
   "cell_type": "code",
   "execution_count": 6,
   "id": "117081c8-8501-4d3c-b064-2e13a778c47f",
   "metadata": {},
   "outputs": [],
   "source": [
    "# 轉成np.array再轉成oneHotEncoding\n",
    "def OneHotEncoding(labels):\n",
    "    y = np.eye(3)[np.array(list(map(int, labels)))]\n",
    "    return y"
   ]
  },
  {
   "cell_type": "markdown",
   "id": "b3a34aae-8708-404e-a8de-1c1ab0f89e4b",
   "metadata": {},
   "source": [
    "### shuffle tool"
   ]
  },
  {
   "cell_type": "code",
   "execution_count": 7,
   "id": "ecf7eb71-89f0-4dfa-a35f-c00c509813b7",
   "metadata": {},
   "outputs": [],
   "source": [
    "def shuffle(x, y):\n",
    "    index = np.arange(x.shape[0])\n",
    "    np.random.shuffle(index)\n",
    "    return x[index], y[index]"
   ]
  },
  {
   "cell_type": "code",
   "execution_count": 8,
   "id": "086b222c-f3b5-457e-aa7a-d671d63135af",
   "metadata": {},
   "outputs": [],
   "source": [
    "device = 'cuda:0' if torch.cuda.is_available() else 'cpu'\n",
    "data, labels = shuffle(np.array(data), OneHotEncoding(labels))"
   ]
  },
  {
   "cell_type": "markdown",
   "id": "71b34c83-e05d-4317-b978-1c4a8c7ac64d",
   "metadata": {},
   "source": [
    "### 切分資料"
   ]
  },
  {
   "cell_type": "code",
   "execution_count": 9,
   "id": "7371a4c3-d7d4-4a04-9866-abb913f6bca5",
   "metadata": {},
   "outputs": [
    {
     "name": "stdout",
     "output_type": "stream",
     "text": [
      "訓練資料共203筆\n",
      "驗證資料共36筆\n",
      "CPU times: user 29 ms, sys: 4.11 ms, total: 33.1 ms\n",
      "Wall time: 31.8 ms\n"
     ]
    }
   ],
   "source": [
    "%%time\n",
    "X_train, X_valid, Y_train, Y_valid = train_test_split(data, labels, test_size=TEST_SIZE, random_state=RANDOM_STATE)\n",
    "print(f'訓練資料共{len(X_train)}筆')\n",
    "print(f'驗證資料共{len(X_valid)}筆')"
   ]
  },
  {
   "cell_type": "code",
   "execution_count": 10,
   "id": "77f1c109-a56f-49c6-bf08-31b288abe6a8",
   "metadata": {},
   "outputs": [],
   "source": [
    "# set the DataLoader\n",
    "train_loader = DataLoader(X_train, batch_size=BATCH_SIZE, shuffle = True)\n",
    "test_loader = DataLoader(X_valid, batch_size=36, shuffle = False)\n",
    "\n",
    "# choose GPU\n",
    "device = 'cuda:0' if torch.cuda.is_available() else 'cpu'\n",
    "\n",
    "# pre-trained model\n",
    "model = timm.create_model('vit_base_patch16_224', pretrained=True, num_classes=3).to(device)\n",
    "\n",
    "# Define loss function and optimizer\n",
    "criterion = CrossEntropyLoss()\n",
    "optimizer = Adam(model.parameters(), lr=LR)"
   ]
  },
  {
   "cell_type": "code",
   "execution_count": 11,
   "id": "29f92486-91a1-48c2-be64-e31efc591a29",
   "metadata": {},
   "outputs": [
    {
     "name": "stdout",
     "output_type": "stream",
     "text": [
      "--------------------Epoch 1--------------------\n",
      "Train_accuracy: 48.77% | Train_loss: 15.4771\n",
      "--------------------Epoch 2--------------------\n",
      "Train_accuracy: 62.56% | Train_loss: 7.6094\n",
      "--------------------Epoch 3--------------------\n",
      "Train_accuracy: 47.29% | Train_loss: 8.2064\n",
      "--------------------Epoch 4--------------------\n",
      "Train_accuracy: 54.19% | Train_loss: 7.2590\n",
      "--------------------Epoch 5--------------------\n",
      "Train_accuracy: 63.05% | Train_loss: 6.7163\n",
      "--------------------Epoch 6--------------------\n",
      "Train_accuracy: 63.05% | Train_loss: 6.8714\n",
      "--------------------Epoch 7--------------------\n",
      "Train_accuracy: 63.05% | Train_loss: 6.7406\n",
      "--------------------Epoch 8--------------------\n",
      "Train_accuracy: 63.05% | Train_loss: 6.7079\n",
      "--------------------Epoch 9--------------------\n",
      "Train_accuracy: 63.05% | Train_loss: 6.7730\n",
      "--------------------Epoch 10--------------------\n",
      "Train_accuracy: 63.05% | Train_loss: 6.7463\n",
      "Accuracy on the test images: 72.22%\n",
      "Inference time: 114.2008 milliseconds\n"
     ]
    }
   ],
   "source": [
    "# Training loop\n",
    "acc_history = []\n",
    "loss_history = []\n",
    "timing_history = np.zeros((EPOCHS, 1))\n",
    "\n",
    "for epoch in range(EPOCHS):\n",
    "    train_loss = 0.0\n",
    "    correct = 0\n",
    "    total = 0\n",
    "    for i, inputs in enumerate(train_loader):\n",
    "        label = torch.FloatTensor(Y_train[i * BATCH_SIZE: (i+1) * BATCH_SIZE]).to(device)\n",
    "        \n",
    "        # Zero the parameter gradients\n",
    "        optimizer.zero_grad()\n",
    "\n",
    "        # Forward pass\n",
    "        outputs = model(inputs.to(device))\n",
    "        loss = criterion(outputs, label)\n",
    "\n",
    "        # Backward pass and optimization\n",
    "        loss.backward()\n",
    "        optimizer.step()\n",
    "\n",
    "        train_loss += loss.item()\n",
    "        _, predicted = torch.max(outputs.data, 1)\n",
    "        _, corrected = torch.max(label.data, 1)\n",
    "        total += label.size(0)\n",
    "        correct += (predicted == corrected).sum().item()\n",
    "\n",
    "    loss_history.append(train_loss)\n",
    "    acc_history.append(100*correct/total)\n",
    "    print(f\"--------------------Epoch {epoch+1}--------------------\")\n",
    "    print(f\"Train_accuracy: {(100*correct/total):.2f}% | Train_loss: {train_loss:.4f}\")\n",
    "    \n",
    "# Evaluate the model on the test dataset\n",
    "correct = 0\n",
    "total = 0\n",
    "starter = torch.cuda.Event(enable_timing=True)\n",
    "ender = torch.cuda.Event(enable_timing=True)\n",
    "timing = 0\n",
    "with torch.no_grad():\n",
    "    for images in test_loader:\n",
    "        # inference\n",
    "        inputs = images.to(device) \n",
    "        starter.record()\n",
    "        outputs = model(inputs)\n",
    "        ender.record()\n",
    "        # check correct\n",
    "        label = torch.FloatTensor(Y_valid).to(device)\n",
    "        _, predicted = torch.max(outputs.data, 1)\n",
    "        _, corrected = torch.max(label.data, 1)\n",
    "        total += label.size(0)\n",
    "        correct += (predicted == corrected).sum().item()\n",
    "        \n",
    "        # record time\n",
    "        torch.cuda.synchronize()\n",
    "        curr_time = starter.elapsed_time(ender)\n",
    "        timing = curr_time\n",
    "        \n",
    "print(f'Accuracy on the test images: {(100*correct/total):.2f}%')\n",
    "print(f'Inference time: {timing:.4f} milliseconds')"
   ]
  },
  {
   "cell_type": "markdown",
   "id": "ac535dd0-056e-40d4-ad0d-a0b638391082",
   "metadata": {},
   "source": [
    "### 使用pre-trained的model"
   ]
  },
  {
   "cell_type": "markdown",
   "id": "dc4ec6d2-c8c5-4b44-9619-845494d759ba",
   "metadata": {},
   "source": [
    "### Result"
   ]
  },
  {
   "cell_type": "code",
   "execution_count": 12,
   "id": "66647a9d-8534-43cd-83b4-0a38b1ae0752",
   "metadata": {
    "tags": []
   },
   "outputs": [],
   "source": [
    "class plot():\n",
    "    def __init__(self, acc_history, loss_history):\n",
    "        self.acc_history = acc_history\n",
    "        self.loss_history = loss_history\n",
    "        \n",
    "    def call(self, index):\n",
    "        if index == 0:\n",
    "            self.plot_acc()\n",
    "        else:\n",
    "            self.plot_loss()\n",
    "        \n",
    "    def plot_acc(self):\n",
    "        plt.plot(self.acc_history)\n",
    "        # plt.plot(self.result['accuracy'])\n",
    "        # plt.plot(self.result['val_accuracy'])\n",
    "        plt.title('Accuracy History')\n",
    "        plt.ylabel('Accuracy')\n",
    "        plt.xlabel('Epoch')\n",
    "        plt.legend(['train'], loc='upper left')\n",
    "        # plt.legend(['train', 'val'], loc='upper left')\n",
    "        plt.show()\n",
    "\n",
    "    def plot_loss(self):\n",
    "        plt.plot(self.loss_history)\n",
    "        # plt.plot(self.result['loss'])\n",
    "        # plt.plot(self.result['val_loss'])\n",
    "        plt.title('Loss History')\n",
    "        plt.ylabel('Loss')\n",
    "        plt.xlabel('Epoch')\n",
    "        plt.legend(['train'], loc='upper left')\n",
    "        # plt.legend(['train', 'val'], loc='upper left')\n",
    "        plt.show()"
   ]
  },
  {
   "cell_type": "code",
   "execution_count": 13,
   "id": "320c2664-9094-4fa4-a1b9-b68c74ac1c3a",
   "metadata": {},
   "outputs": [
    {
     "data": {
      "image/png": "[encoded data removed]",
      "text/plain": [
       "<Figure size 432x288 with 1 Axes>"
      ]
     },
     "metadata": {
      "needs_background": "light"
     },
     "output_type": "display_data"
    },
    {
     "data": {
      "image/png": "[encoded data removed]",
      "text/plain": [
       "<Figure size 432x288 with 1 Axes>"
      ]
     },
     "metadata": {
      "needs_background": "light"
     },
     "output_type": "display_data"
    }
   ],
   "source": [
    "myPlot = plot(acc_history, loss_history)\n",
    "myPlot.call(0)\n",
    "myPlot.call(1)"
   ]
  },
  {
   "cell_type": "markdown",
   "id": "a2b46d8a-93bc-43f7-b183-f6a4b3d78bdf",
   "metadata": {},
   "source": [
    "### Flops and macs\n",
    "- https://github.com/zhijian-liu/torchprofile\n",
    "- FLOPs（浮點運算次數）：模型計算過程中所執行的浮點運算（加法和乘法）的總次數。FLOPs通常用來估計模型的計算需求和效能，尤其是在硬體加速器的應用中。\n",
    "- MACs（乘加運算次數）：則是指在模型計算過程中執行的乘法和加法運算的總次數。由於在許多計算中，乘法和加法操作通常是同時進行的，因此MACs可以更好地反映模型的計算需求。"
   ]
  },
  {
   "cell_type": "code",
   "execution_count": 14,
   "id": "25373f2d-b1ee-481e-9e98-fa81b58f6657",
   "metadata": {},
   "outputs": [
    {
     "name": "stdout",
     "output_type": "stream",
     "text": [
      "[INFO] Register count_convNd() for <class 'torch.nn.modules.conv.Conv2d'>.\n",
      "[INFO] Register zero_ops() for <class 'torch.nn.modules.dropout.Dropout'>.\n",
      "[INFO] Register count_normalization() for <class 'torch.nn.modules.normalization.LayerNorm'>.\n",
      "[INFO] Register count_linear() for <class 'torch.nn.modules.linear.Linear'>.\n",
      "[INFO] Register zero_ops() for <class 'torch.nn.modules.container.Sequential'>.\n",
      "FLOPs = 539.61166848G\n",
      "Params = 85.648899M\n"
     ]
    }
   ],
   "source": [
    "inputs = torch.randn(BATCH_SIZE, 3, 224, 224).to(device)\n",
    "flops, params = profile(model, inputs=(inputs, ))\n",
    "print(f'FLOPs = {(flops/1000**3)}G')\n",
    "print(f'Params = {(params/1000**2)}M')"
   ]
  }
 ],
 "metadata": {
  "kernelspec": {
   "display_name": "Python 3",
   "language": "python",
   "name": "python3"
  },
  "language_info": {
   "codemirror_mode": {
    "name": "ipython",
    "version": 3
   },
   "file_extension": ".py",
   "mimetype": "text/x-python",
   "name": "python",
   "nbconvert_exporter": "python",
   "pygments_lexer": "ipython3",
   "version": "3.6.9"
  }
 },
 "nbformat": 4,
 "nbformat_minor": 5
}
